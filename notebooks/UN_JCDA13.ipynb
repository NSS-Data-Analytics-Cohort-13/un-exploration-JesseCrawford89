{
 "cells": [
  {
   "cell_type": "markdown",
   "id": "e8d7a9df-b281-406f-8b42-f319765d6359",
   "metadata": {},
   "source": [
    "Import Packages"
   ]
  },
  {
   "cell_type": "code",
   "execution_count": 2,
   "id": "9b9eaf17-5597-40c1-84b3-19142389cb7f",
   "metadata": {},
   "outputs": [],
   "source": [
    "import pandas as pd\n",
    "import numpy as np\n",
    "import matplotlib.pyplot as plt\n",
    "import seaborn as sns"
   ]
  },
  {
   "cell_type": "code",
   "execution_count": 3,
   "id": "42da1684-dcd1-4b46-8bf9-7f8c7908debd",
   "metadata": {},
   "outputs": [],
   "source": [
    "#Using the pandas read_csv() method, read the GDP dataset into your notebook as a DataFrame called gdp_df. \n",
    "#Take a look at the first few and last few rows to familiarize yourself with what is contained in this dataset."
   ]
  },
  {
   "cell_type": "code",
   "execution_count": 4,
   "id": "6112f07a-acf2-4f60-8d6a-a9d76f64d0d6",
   "metadata": {},
   "outputs": [],
   "source": [
    "gdp_df = pd.read_csv('../data/gdp_percapita.csv')"
   ]
  },
  {
   "cell_type": "code",
   "execution_count": 5,
   "id": "d91a7028-0565-4414-ba18-13db6189f318",
   "metadata": {},
   "outputs": [
    {
     "data": {
      "text/html": [
       "<div>\n",
       "<style scoped>\n",
       "    .dataframe tbody tr th:only-of-type {\n",
       "        vertical-align: middle;\n",
       "    }\n",
       "\n",
       "    .dataframe tbody tr th {\n",
       "        vertical-align: top;\n",
       "    }\n",
       "\n",
       "    .dataframe thead th {\n",
       "        text-align: right;\n",
       "    }\n",
       "</style>\n",
       "<table border=\"1\" class=\"dataframe\">\n",
       "  <thead>\n",
       "    <tr style=\"text-align: right;\">\n",
       "      <th></th>\n",
       "      <th>Country or Area</th>\n",
       "      <th>Year</th>\n",
       "      <th>Value</th>\n",
       "      <th>Value Footnotes</th>\n",
       "    </tr>\n",
       "  </thead>\n",
       "  <tbody>\n",
       "    <tr>\n",
       "      <th>0</th>\n",
       "      <td>Afghanistan</td>\n",
       "      <td>2021</td>\n",
       "      <td>1517.016266</td>\n",
       "      <td>NaN</td>\n",
       "    </tr>\n",
       "    <tr>\n",
       "      <th>1</th>\n",
       "      <td>Afghanistan</td>\n",
       "      <td>2020</td>\n",
       "      <td>1968.341002</td>\n",
       "      <td>NaN</td>\n",
       "    </tr>\n",
       "    <tr>\n",
       "      <th>2</th>\n",
       "      <td>Afghanistan</td>\n",
       "      <td>2019</td>\n",
       "      <td>2079.921861</td>\n",
       "      <td>NaN</td>\n",
       "    </tr>\n",
       "    <tr>\n",
       "      <th>3</th>\n",
       "      <td>Afghanistan</td>\n",
       "      <td>2018</td>\n",
       "      <td>2060.698973</td>\n",
       "      <td>NaN</td>\n",
       "    </tr>\n",
       "    <tr>\n",
       "      <th>4</th>\n",
       "      <td>Afghanistan</td>\n",
       "      <td>2017</td>\n",
       "      <td>2096.093111</td>\n",
       "      <td>NaN</td>\n",
       "    </tr>\n",
       "    <tr>\n",
       "      <th>...</th>\n",
       "      <td>...</td>\n",
       "      <td>...</td>\n",
       "      <td>...</td>\n",
       "      <td>...</td>\n",
       "    </tr>\n",
       "    <tr>\n",
       "      <th>7657</th>\n",
       "      <td>Zimbabwe</td>\n",
       "      <td>1994</td>\n",
       "      <td>2670.106615</td>\n",
       "      <td>NaN</td>\n",
       "    </tr>\n",
       "    <tr>\n",
       "      <th>7658</th>\n",
       "      <td>Zimbabwe</td>\n",
       "      <td>1993</td>\n",
       "      <td>2458.783255</td>\n",
       "      <td>NaN</td>\n",
       "    </tr>\n",
       "    <tr>\n",
       "      <th>7659</th>\n",
       "      <td>Zimbabwe</td>\n",
       "      <td>1992</td>\n",
       "      <td>2468.278257</td>\n",
       "      <td>NaN</td>\n",
       "    </tr>\n",
       "    <tr>\n",
       "      <th>7660</th>\n",
       "      <td>Zimbabwe</td>\n",
       "      <td>1991</td>\n",
       "      <td>2781.787843</td>\n",
       "      <td>NaN</td>\n",
       "    </tr>\n",
       "    <tr>\n",
       "      <th>7661</th>\n",
       "      <td>Zimbabwe</td>\n",
       "      <td>1990</td>\n",
       "      <td>2704.757299</td>\n",
       "      <td>NaN</td>\n",
       "    </tr>\n",
       "  </tbody>\n",
       "</table>\n",
       "<p>7662 rows × 4 columns</p>\n",
       "</div>"
      ],
      "text/plain": [
       "     Country or Area  Year        Value  Value Footnotes\n",
       "0        Afghanistan  2021  1517.016266              NaN\n",
       "1        Afghanistan  2020  1968.341002              NaN\n",
       "2        Afghanistan  2019  2079.921861              NaN\n",
       "3        Afghanistan  2018  2060.698973              NaN\n",
       "4        Afghanistan  2017  2096.093111              NaN\n",
       "...              ...   ...          ...              ...\n",
       "7657        Zimbabwe  1994  2670.106615              NaN\n",
       "7658        Zimbabwe  1993  2458.783255              NaN\n",
       "7659        Zimbabwe  1992  2468.278257              NaN\n",
       "7660        Zimbabwe  1991  2781.787843              NaN\n",
       "7661        Zimbabwe  1990  2704.757299              NaN\n",
       "\n",
       "[7662 rows x 4 columns]"
      ]
     },
     "execution_count": 5,
     "metadata": {},
     "output_type": "execute_result"
    }
   ],
   "source": [
    "gdp_df"
   ]
  },
  {
   "cell_type": "code",
   "execution_count": 6,
   "id": "1f290542-052e-4e5c-8e8c-f356e1bc13fc",
   "metadata": {},
   "outputs": [],
   "source": [
    "##"
   ]
  },
  {
   "cell_type": "markdown",
   "id": "1bc65706-15d2-4c20-a13f-78e868bdbe33",
   "metadata": {},
   "source": [
    "### 5. How many rows and columns are in gdp_df? \n",
    "### What are the data types of each column?"
   ]
  },
  {
   "cell_type": "code",
   "execution_count": 8,
   "id": "1be78a8e-aeb0-4e27-b01b-c77ac8f8f63f",
   "metadata": {},
   "outputs": [
    {
     "name": "stdout",
     "output_type": "stream",
     "text": [
      "object\n",
      "int64\n",
      "float64\n",
      "float64\n"
     ]
    }
   ],
   "source": [
    "gdp_df.shape\n",
    "print(gdp_df['Country or Area'].dtypes)\n",
    "print(gdp_df['Year'].dtypes)\n",
    "print(gdp_df['Value'].dtypes)\n",
    "print(gdp_df['Value Footnotes'].dtypes)"
   ]
  },
  {
   "cell_type": "code",
   "execution_count": 9,
   "id": "f65edf79-5043-4f50-b563-809465432df5",
   "metadata": {},
   "outputs": [],
   "source": [
    "##"
   ]
  },
  {
   "cell_type": "code",
   "execution_count": 10,
   "id": "d4b7f5e8-31fa-4332-9e2e-9a0647dc7487",
   "metadata": {},
   "outputs": [
    {
     "data": {
      "text/html": [
       "<div>\n",
       "<style scoped>\n",
       "    .dataframe tbody tr th:only-of-type {\n",
       "        vertical-align: middle;\n",
       "    }\n",
       "\n",
       "    .dataframe tbody tr th {\n",
       "        vertical-align: top;\n",
       "    }\n",
       "\n",
       "    .dataframe thead th {\n",
       "        text-align: right;\n",
       "    }\n",
       "</style>\n",
       "<table border=\"1\" class=\"dataframe\">\n",
       "  <thead>\n",
       "    <tr style=\"text-align: right;\">\n",
       "      <th></th>\n",
       "      <th>Country or Area</th>\n",
       "      <th>Year</th>\n",
       "      <th>Value</th>\n",
       "      <th>Value Footnotes</th>\n",
       "    </tr>\n",
       "  </thead>\n",
       "  <tbody>\n",
       "    <tr>\n",
       "      <th>0</th>\n",
       "      <td>Afghanistan</td>\n",
       "      <td>2021</td>\n",
       "      <td>1517.016266</td>\n",
       "      <td>NaN</td>\n",
       "    </tr>\n",
       "    <tr>\n",
       "      <th>1</th>\n",
       "      <td>Afghanistan</td>\n",
       "      <td>2020</td>\n",
       "      <td>1968.341002</td>\n",
       "      <td>NaN</td>\n",
       "    </tr>\n",
       "    <tr>\n",
       "      <th>2</th>\n",
       "      <td>Afghanistan</td>\n",
       "      <td>2019</td>\n",
       "      <td>2079.921861</td>\n",
       "      <td>NaN</td>\n",
       "    </tr>\n",
       "    <tr>\n",
       "      <th>3</th>\n",
       "      <td>Afghanistan</td>\n",
       "      <td>2018</td>\n",
       "      <td>2060.698973</td>\n",
       "      <td>NaN</td>\n",
       "    </tr>\n",
       "    <tr>\n",
       "      <th>4</th>\n",
       "      <td>Afghanistan</td>\n",
       "      <td>2017</td>\n",
       "      <td>2096.093111</td>\n",
       "      <td>NaN</td>\n",
       "    </tr>\n",
       "  </tbody>\n",
       "</table>\n",
       "</div>"
      ],
      "text/plain": [
       "  Country or Area  Year        Value  Value Footnotes\n",
       "0     Afghanistan  2021  1517.016266              NaN\n",
       "1     Afghanistan  2020  1968.341002              NaN\n",
       "2     Afghanistan  2019  2079.921861              NaN\n",
       "3     Afghanistan  2018  2060.698973              NaN\n",
       "4     Afghanistan  2017  2096.093111              NaN"
      ]
     },
     "execution_count": 10,
     "metadata": {},
     "output_type": "execute_result"
    }
   ],
   "source": [
    "gdp_df.head()"
   ]
  },
  {
   "cell_type": "markdown",
   "id": "b6720d08-ca42-4487-8c37-9c723e4382b8",
   "metadata": {},
   "source": [
    "### 6. Drop the Value Footnotes column and rename the remaining three to 'Country', 'Year', and 'GDP_Per_Capita'."
   ]
  },
  {
   "cell_type": "code",
   "execution_count": 12,
   "id": "fa39f84b-f733-4409-8aa2-26996eb1fab6",
   "metadata": {},
   "outputs": [],
   "source": [
    "gdp_df = gdp_df.rename(columns={'Country or Area':'Country','Value':'GDP_Per_Capita'})"
   ]
  },
  {
   "cell_type": "code",
   "execution_count": 13,
   "id": "c2f82e9f-7873-4578-8b1f-208c538c2f9b",
   "metadata": {},
   "outputs": [],
   "source": [
    "gdp_df = gdp_df.drop('Value Footnotes', axis=1)"
   ]
  },
  {
   "cell_type": "code",
   "execution_count": 14,
   "id": "1bc7108d-8d01-4604-8d6a-78fd58a50ac5",
   "metadata": {},
   "outputs": [
    {
     "data": {
      "text/html": [
       "<div>\n",
       "<style scoped>\n",
       "    .dataframe tbody tr th:only-of-type {\n",
       "        vertical-align: middle;\n",
       "    }\n",
       "\n",
       "    .dataframe tbody tr th {\n",
       "        vertical-align: top;\n",
       "    }\n",
       "\n",
       "    .dataframe thead th {\n",
       "        text-align: right;\n",
       "    }\n",
       "</style>\n",
       "<table border=\"1\" class=\"dataframe\">\n",
       "  <thead>\n",
       "    <tr style=\"text-align: right;\">\n",
       "      <th></th>\n",
       "      <th>Country</th>\n",
       "      <th>Year</th>\n",
       "      <th>GDP_Per_Capita</th>\n",
       "    </tr>\n",
       "  </thead>\n",
       "  <tbody>\n",
       "    <tr>\n",
       "      <th>0</th>\n",
       "      <td>Afghanistan</td>\n",
       "      <td>2021</td>\n",
       "      <td>1517.016266</td>\n",
       "    </tr>\n",
       "    <tr>\n",
       "      <th>1</th>\n",
       "      <td>Afghanistan</td>\n",
       "      <td>2020</td>\n",
       "      <td>1968.341002</td>\n",
       "    </tr>\n",
       "    <tr>\n",
       "      <th>2</th>\n",
       "      <td>Afghanistan</td>\n",
       "      <td>2019</td>\n",
       "      <td>2079.921861</td>\n",
       "    </tr>\n",
       "    <tr>\n",
       "      <th>3</th>\n",
       "      <td>Afghanistan</td>\n",
       "      <td>2018</td>\n",
       "      <td>2060.698973</td>\n",
       "    </tr>\n",
       "    <tr>\n",
       "      <th>4</th>\n",
       "      <td>Afghanistan</td>\n",
       "      <td>2017</td>\n",
       "      <td>2096.093111</td>\n",
       "    </tr>\n",
       "    <tr>\n",
       "      <th>...</th>\n",
       "      <td>...</td>\n",
       "      <td>...</td>\n",
       "      <td>...</td>\n",
       "    </tr>\n",
       "    <tr>\n",
       "      <th>7657</th>\n",
       "      <td>Zimbabwe</td>\n",
       "      <td>1994</td>\n",
       "      <td>2670.106615</td>\n",
       "    </tr>\n",
       "    <tr>\n",
       "      <th>7658</th>\n",
       "      <td>Zimbabwe</td>\n",
       "      <td>1993</td>\n",
       "      <td>2458.783255</td>\n",
       "    </tr>\n",
       "    <tr>\n",
       "      <th>7659</th>\n",
       "      <td>Zimbabwe</td>\n",
       "      <td>1992</td>\n",
       "      <td>2468.278257</td>\n",
       "    </tr>\n",
       "    <tr>\n",
       "      <th>7660</th>\n",
       "      <td>Zimbabwe</td>\n",
       "      <td>1991</td>\n",
       "      <td>2781.787843</td>\n",
       "    </tr>\n",
       "    <tr>\n",
       "      <th>7661</th>\n",
       "      <td>Zimbabwe</td>\n",
       "      <td>1990</td>\n",
       "      <td>2704.757299</td>\n",
       "    </tr>\n",
       "  </tbody>\n",
       "</table>\n",
       "<p>7662 rows × 3 columns</p>\n",
       "</div>"
      ],
      "text/plain": [
       "          Country  Year  GDP_Per_Capita\n",
       "0     Afghanistan  2021     1517.016266\n",
       "1     Afghanistan  2020     1968.341002\n",
       "2     Afghanistan  2019     2079.921861\n",
       "3     Afghanistan  2018     2060.698973\n",
       "4     Afghanistan  2017     2096.093111\n",
       "...           ...   ...             ...\n",
       "7657     Zimbabwe  1994     2670.106615\n",
       "7658     Zimbabwe  1993     2458.783255\n",
       "7659     Zimbabwe  1992     2468.278257\n",
       "7660     Zimbabwe  1991     2781.787843\n",
       "7661     Zimbabwe  1990     2704.757299\n",
       "\n",
       "[7662 rows x 3 columns]"
      ]
     },
     "execution_count": 14,
     "metadata": {},
     "output_type": "execute_result"
    }
   ],
   "source": [
    "gdp_df"
   ]
  },
  {
   "cell_type": "markdown",
   "id": "36196c4a-ea5a-4bd0-b851-a56b095011a4",
   "metadata": {},
   "source": [
    "### 7. How many countries have data for all years? Which countries are missing many years of data? Look at the number of observations per year. What do you notice?"
   ]
  },
  {
   "cell_type": "code",
   "execution_count": 16,
   "id": "44ccdd77-8afd-4873-8da9-e38ca9d655a6",
   "metadata": {},
   "outputs": [],
   "source": [
    "year_count_df = gdp_df.groupby(['Country'])['Year'].count().sort_values().reset_index()"
   ]
  },
  {
   "cell_type": "code",
   "execution_count": 17,
   "id": "b2297695-d3d1-4d9a-a5f8-d36b53a46e24",
   "metadata": {
    "scrolled": true
   },
   "outputs": [
    {
     "data": {
      "text/html": [
       "<div>\n",
       "<style scoped>\n",
       "    .dataframe tbody tr th:only-of-type {\n",
       "        vertical-align: middle;\n",
       "    }\n",
       "\n",
       "    .dataframe tbody tr th {\n",
       "        vertical-align: top;\n",
       "    }\n",
       "\n",
       "    .dataframe thead th {\n",
       "        text-align: right;\n",
       "    }\n",
       "</style>\n",
       "<table border=\"1\" class=\"dataframe\">\n",
       "  <thead>\n",
       "    <tr style=\"text-align: right;\">\n",
       "      <th></th>\n",
       "      <th>Country</th>\n",
       "      <th>Year</th>\n",
       "    </tr>\n",
       "  </thead>\n",
       "  <tbody>\n",
       "    <tr>\n",
       "      <th>0</th>\n",
       "      <td>Djibouti</td>\n",
       "      <td>10</td>\n",
       "    </tr>\n",
       "    <tr>\n",
       "      <th>1</th>\n",
       "      <td>Somalia</td>\n",
       "      <td>10</td>\n",
       "    </tr>\n",
       "    <tr>\n",
       "      <th>2</th>\n",
       "      <td>Turks and Caicos Islands</td>\n",
       "      <td>12</td>\n",
       "    </tr>\n",
       "    <tr>\n",
       "      <th>3</th>\n",
       "      <td>Sint Maarten (Dutch part)</td>\n",
       "      <td>14</td>\n",
       "    </tr>\n",
       "    <tr>\n",
       "      <th>4</th>\n",
       "      <td>Kosovo</td>\n",
       "      <td>15</td>\n",
       "    </tr>\n",
       "    <tr>\n",
       "      <th>...</th>\n",
       "      <td>...</td>\n",
       "      <td>...</td>\n",
       "    </tr>\n",
       "    <tr>\n",
       "      <th>237</th>\n",
       "      <td>Jamaica</td>\n",
       "      <td>33</td>\n",
       "    </tr>\n",
       "    <tr>\n",
       "      <th>238</th>\n",
       "      <td>Japan</td>\n",
       "      <td>33</td>\n",
       "    </tr>\n",
       "    <tr>\n",
       "      <th>239</th>\n",
       "      <td>Jordan</td>\n",
       "      <td>33</td>\n",
       "    </tr>\n",
       "    <tr>\n",
       "      <th>240</th>\n",
       "      <td>IDA total</td>\n",
       "      <td>33</td>\n",
       "    </tr>\n",
       "    <tr>\n",
       "      <th>241</th>\n",
       "      <td>Zimbabwe</td>\n",
       "      <td>33</td>\n",
       "    </tr>\n",
       "  </tbody>\n",
       "</table>\n",
       "<p>242 rows × 2 columns</p>\n",
       "</div>"
      ],
      "text/plain": [
       "                       Country  Year\n",
       "0                     Djibouti    10\n",
       "1                      Somalia    10\n",
       "2     Turks and Caicos Islands    12\n",
       "3    Sint Maarten (Dutch part)    14\n",
       "4                       Kosovo    15\n",
       "..                         ...   ...\n",
       "237                    Jamaica    33\n",
       "238                      Japan    33\n",
       "239                     Jordan    33\n",
       "240                  IDA total    33\n",
       "241                   Zimbabwe    33\n",
       "\n",
       "[242 rows x 2 columns]"
      ]
     },
     "execution_count": 17,
     "metadata": {},
     "output_type": "execute_result"
    }
   ],
   "source": [
    "year_count_df"
   ]
  },
  {
   "cell_type": "code",
   "execution_count": 18,
   "id": "298eb3b4-dc23-4b21-8b83-0bb1bb245434",
   "metadata": {},
   "outputs": [
    {
     "data": {
      "text/plain": [
       "33"
      ]
     },
     "execution_count": 18,
     "metadata": {},
     "output_type": "execute_result"
    }
   ],
   "source": [
    "#gdp[gdp_df['Country']=='Afghanistan'] filter function\n",
    "#gdp[gdp_df['Country']=='Afghanistan']['Year'].count() for count of years in dataframe\n",
    "gdp_df['Year'].nunique() #for count"
   ]
  },
  {
   "cell_type": "code",
   "execution_count": 19,
   "id": "5a90c16f-354b-40a0-b31e-81aa02430475",
   "metadata": {},
   "outputs": [
    {
     "data": {
      "text/plain": [
       "<bound method Series.unique of 0       2021\n",
       "1       2020\n",
       "2       2019\n",
       "3       2018\n",
       "4       2017\n",
       "        ... \n",
       "7657    1994\n",
       "7658    1993\n",
       "7659    1992\n",
       "7660    1991\n",
       "7661    1990\n",
       "Name: Year, Length: 7662, dtype: int64>"
      ]
     },
     "execution_count": 19,
     "metadata": {},
     "output_type": "execute_result"
    }
   ],
   "source": [
    "gdp_df['Year'].unique #for list"
   ]
  },
  {
   "cell_type": "code",
   "execution_count": 20,
   "id": "8a3268e9-e08f-49fc-b712-0c06d2e018b6",
   "metadata": {},
   "outputs": [
    {
     "data": {
      "text/html": [
       "<div>\n",
       "<style scoped>\n",
       "    .dataframe tbody tr th:only-of-type {\n",
       "        vertical-align: middle;\n",
       "    }\n",
       "\n",
       "    .dataframe tbody tr th {\n",
       "        vertical-align: top;\n",
       "    }\n",
       "\n",
       "    .dataframe thead th {\n",
       "        text-align: right;\n",
       "    }\n",
       "</style>\n",
       "<table border=\"1\" class=\"dataframe\">\n",
       "  <thead>\n",
       "    <tr style=\"text-align: right;\">\n",
       "      <th></th>\n",
       "      <th>Country</th>\n",
       "      <th>Year</th>\n",
       "    </tr>\n",
       "  </thead>\n",
       "  <tbody>\n",
       "    <tr>\n",
       "      <th>0</th>\n",
       "      <td>Djibouti</td>\n",
       "      <td>10</td>\n",
       "    </tr>\n",
       "    <tr>\n",
       "      <th>1</th>\n",
       "      <td>Somalia</td>\n",
       "      <td>10</td>\n",
       "    </tr>\n",
       "    <tr>\n",
       "      <th>2</th>\n",
       "      <td>Turks and Caicos Islands</td>\n",
       "      <td>12</td>\n",
       "    </tr>\n",
       "    <tr>\n",
       "      <th>3</th>\n",
       "      <td>Sint Maarten (Dutch part)</td>\n",
       "      <td>14</td>\n",
       "    </tr>\n",
       "    <tr>\n",
       "      <th>4</th>\n",
       "      <td>Kosovo</td>\n",
       "      <td>15</td>\n",
       "    </tr>\n",
       "    <tr>\n",
       "      <th>5</th>\n",
       "      <td>Cayman Islands</td>\n",
       "      <td>16</td>\n",
       "    </tr>\n",
       "    <tr>\n",
       "      <th>6</th>\n",
       "      <td>Nauru</td>\n",
       "      <td>19</td>\n",
       "    </tr>\n",
       "    <tr>\n",
       "      <th>7</th>\n",
       "      <td>Afghanistan</td>\n",
       "      <td>20</td>\n",
       "    </tr>\n",
       "    <tr>\n",
       "      <th>8</th>\n",
       "      <td>CuraÃ§ao</td>\n",
       "      <td>22</td>\n",
       "    </tr>\n",
       "    <tr>\n",
       "      <th>9</th>\n",
       "      <td>Palau</td>\n",
       "      <td>22</td>\n",
       "    </tr>\n",
       "    <tr>\n",
       "      <th>10</th>\n",
       "      <td>SÃ£o TomÃ© and Principe</td>\n",
       "      <td>22</td>\n",
       "    </tr>\n",
       "    <tr>\n",
       "      <th>11</th>\n",
       "      <td>Qatar</td>\n",
       "      <td>23</td>\n",
       "    </tr>\n",
       "    <tr>\n",
       "      <th>12</th>\n",
       "      <td>Other small states</td>\n",
       "      <td>23</td>\n",
       "    </tr>\n",
       "    <tr>\n",
       "      <th>13</th>\n",
       "      <td>Timor-Leste</td>\n",
       "      <td>23</td>\n",
       "    </tr>\n",
       "    <tr>\n",
       "      <th>14</th>\n",
       "      <td>Liberia</td>\n",
       "      <td>23</td>\n",
       "    </tr>\n",
       "    <tr>\n",
       "      <th>15</th>\n",
       "      <td>Libya</td>\n",
       "      <td>24</td>\n",
       "    </tr>\n",
       "    <tr>\n",
       "      <th>16</th>\n",
       "      <td>San Marino</td>\n",
       "      <td>25</td>\n",
       "    </tr>\n",
       "    <tr>\n",
       "      <th>17</th>\n",
       "      <td>Small states</td>\n",
       "      <td>26</td>\n",
       "    </tr>\n",
       "    <tr>\n",
       "      <th>18</th>\n",
       "      <td>Montenegro</td>\n",
       "      <td>26</td>\n",
       "    </tr>\n",
       "    <tr>\n",
       "      <th>19</th>\n",
       "      <td>Maldives</td>\n",
       "      <td>28</td>\n",
       "    </tr>\n",
       "    <tr>\n",
       "      <th>20</th>\n",
       "      <td>Moldova</td>\n",
       "      <td>28</td>\n",
       "    </tr>\n",
       "    <tr>\n",
       "      <th>21</th>\n",
       "      <td>Israel</td>\n",
       "      <td>28</td>\n",
       "    </tr>\n",
       "    <tr>\n",
       "      <th>22</th>\n",
       "      <td>Iceland</td>\n",
       "      <td>28</td>\n",
       "    </tr>\n",
       "    <tr>\n",
       "      <th>23</th>\n",
       "      <td>Estonia</td>\n",
       "      <td>28</td>\n",
       "    </tr>\n",
       "    <tr>\n",
       "      <th>24</th>\n",
       "      <td>Croatia</td>\n",
       "      <td>28</td>\n",
       "    </tr>\n",
       "    <tr>\n",
       "      <th>25</th>\n",
       "      <td>Serbia</td>\n",
       "      <td>28</td>\n",
       "    </tr>\n",
       "    <tr>\n",
       "      <th>26</th>\n",
       "      <td>Slovenia</td>\n",
       "      <td>28</td>\n",
       "    </tr>\n",
       "    <tr>\n",
       "      <th>27</th>\n",
       "      <td>Lithuania</td>\n",
       "      <td>28</td>\n",
       "    </tr>\n",
       "    <tr>\n",
       "      <th>28</th>\n",
       "      <td>Latvia</td>\n",
       "      <td>28</td>\n",
       "    </tr>\n",
       "    <tr>\n",
       "      <th>29</th>\n",
       "      <td>West Bank and Gaza</td>\n",
       "      <td>29</td>\n",
       "    </tr>\n",
       "    <tr>\n",
       "      <th>30</th>\n",
       "      <td>Bosnia and Herzegovina</td>\n",
       "      <td>29</td>\n",
       "    </tr>\n",
       "    <tr>\n",
       "      <th>31</th>\n",
       "      <td>Cambodia</td>\n",
       "      <td>30</td>\n",
       "    </tr>\n",
       "    <tr>\n",
       "      <th>32</th>\n",
       "      <td>Kuwait</td>\n",
       "      <td>31</td>\n",
       "    </tr>\n",
       "    <tr>\n",
       "      <th>33</th>\n",
       "      <td>Slovak Republic</td>\n",
       "      <td>31</td>\n",
       "    </tr>\n",
       "    <tr>\n",
       "      <th>34</th>\n",
       "      <td>Turkmenistan</td>\n",
       "      <td>31</td>\n",
       "    </tr>\n",
       "    <tr>\n",
       "      <th>35</th>\n",
       "      <td>Lebanon</td>\n",
       "      <td>32</td>\n",
       "    </tr>\n",
       "    <tr>\n",
       "      <th>36</th>\n",
       "      <td>Tonga</td>\n",
       "      <td>32</td>\n",
       "    </tr>\n",
       "    <tr>\n",
       "      <th>37</th>\n",
       "      <td>Hungary</td>\n",
       "      <td>32</td>\n",
       "    </tr>\n",
       "    <tr>\n",
       "      <th>38</th>\n",
       "      <td>Aruba</td>\n",
       "      <td>32</td>\n",
       "    </tr>\n",
       "    <tr>\n",
       "      <th>39</th>\n",
       "      <td>Bhutan</td>\n",
       "      <td>32</td>\n",
       "    </tr>\n",
       "  </tbody>\n",
       "</table>\n",
       "</div>"
      ],
      "text/plain": [
       "                      Country  Year\n",
       "0                    Djibouti    10\n",
       "1                     Somalia    10\n",
       "2    Turks and Caicos Islands    12\n",
       "3   Sint Maarten (Dutch part)    14\n",
       "4                      Kosovo    15\n",
       "5              Cayman Islands    16\n",
       "6                       Nauru    19\n",
       "7                 Afghanistan    20\n",
       "8                    CuraÃ§ao    22\n",
       "9                       Palau    22\n",
       "10    SÃ£o TomÃ© and Principe    22\n",
       "11                      Qatar    23\n",
       "12         Other small states    23\n",
       "13                Timor-Leste    23\n",
       "14                    Liberia    23\n",
       "15                      Libya    24\n",
       "16                 San Marino    25\n",
       "17               Small states    26\n",
       "18                 Montenegro    26\n",
       "19                   Maldives    28\n",
       "20                    Moldova    28\n",
       "21                     Israel    28\n",
       "22                    Iceland    28\n",
       "23                    Estonia    28\n",
       "24                    Croatia    28\n",
       "25                     Serbia    28\n",
       "26                   Slovenia    28\n",
       "27                  Lithuania    28\n",
       "28                     Latvia    28\n",
       "29         West Bank and Gaza    29\n",
       "30     Bosnia and Herzegovina    29\n",
       "31                   Cambodia    30\n",
       "32                     Kuwait    31\n",
       "33            Slovak Republic    31\n",
       "34               Turkmenistan    31\n",
       "35                    Lebanon    32\n",
       "36                      Tonga    32\n",
       "37                    Hungary    32\n",
       "38                      Aruba    32\n",
       "39                     Bhutan    32"
      ]
     },
     "execution_count": 20,
     "metadata": {},
     "output_type": "execute_result"
    }
   ],
   "source": [
    "year_count_df[year_count_df['Year']<33]"
   ]
  },
  {
   "cell_type": "code",
   "execution_count": 21,
   "id": "9553d96a-bddb-4041-9691-7c281844f765",
   "metadata": {
    "scrolled": true
   },
   "outputs": [
    {
     "data": {
      "text/plain": [
       "Country    40\n",
       "Year       40\n",
       "dtype: int64"
      ]
     },
     "execution_count": 21,
     "metadata": {},
     "output_type": "execute_result"
    }
   ],
   "source": [
    "year_count_df[year_count_df['Year']<33].count()"
   ]
  },
  {
   "cell_type": "code",
   "execution_count": 22,
   "id": "da61c3db-643d-49ab-9142-9299c9a5a8cf",
   "metadata": {},
   "outputs": [
    {
     "data": {
      "text/html": [
       "<div>\n",
       "<style scoped>\n",
       "    .dataframe tbody tr th:only-of-type {\n",
       "        vertical-align: middle;\n",
       "    }\n",
       "\n",
       "    .dataframe tbody tr th {\n",
       "        vertical-align: top;\n",
       "    }\n",
       "\n",
       "    .dataframe thead th {\n",
       "        text-align: right;\n",
       "    }\n",
       "</style>\n",
       "<table border=\"1\" class=\"dataframe\">\n",
       "  <thead>\n",
       "    <tr style=\"text-align: right;\">\n",
       "      <th></th>\n",
       "      <th>Country</th>\n",
       "      <th>Year</th>\n",
       "    </tr>\n",
       "  </thead>\n",
       "  <tbody>\n",
       "    <tr>\n",
       "      <th>40</th>\n",
       "      <td>Papua New Guinea</td>\n",
       "      <td>33</td>\n",
       "    </tr>\n",
       "    <tr>\n",
       "      <th>41</th>\n",
       "      <td>Pakistan</td>\n",
       "      <td>33</td>\n",
       "    </tr>\n",
       "    <tr>\n",
       "      <th>42</th>\n",
       "      <td>Australia</td>\n",
       "      <td>33</td>\n",
       "    </tr>\n",
       "    <tr>\n",
       "      <th>43</th>\n",
       "      <td>Pacific island small states</td>\n",
       "      <td>33</td>\n",
       "    </tr>\n",
       "    <tr>\n",
       "      <th>44</th>\n",
       "      <td>Austria</td>\n",
       "      <td>33</td>\n",
       "    </tr>\n",
       "    <tr>\n",
       "      <th>...</th>\n",
       "      <td>...</td>\n",
       "      <td>...</td>\n",
       "    </tr>\n",
       "    <tr>\n",
       "      <th>237</th>\n",
       "      <td>Jamaica</td>\n",
       "      <td>33</td>\n",
       "    </tr>\n",
       "    <tr>\n",
       "      <th>238</th>\n",
       "      <td>Japan</td>\n",
       "      <td>33</td>\n",
       "    </tr>\n",
       "    <tr>\n",
       "      <th>239</th>\n",
       "      <td>Jordan</td>\n",
       "      <td>33</td>\n",
       "    </tr>\n",
       "    <tr>\n",
       "      <th>240</th>\n",
       "      <td>IDA total</td>\n",
       "      <td>33</td>\n",
       "    </tr>\n",
       "    <tr>\n",
       "      <th>241</th>\n",
       "      <td>Zimbabwe</td>\n",
       "      <td>33</td>\n",
       "    </tr>\n",
       "  </tbody>\n",
       "</table>\n",
       "<p>202 rows × 2 columns</p>\n",
       "</div>"
      ],
      "text/plain": [
       "                         Country  Year\n",
       "40              Papua New Guinea    33\n",
       "41                      Pakistan    33\n",
       "42                     Australia    33\n",
       "43   Pacific island small states    33\n",
       "44                       Austria    33\n",
       "..                           ...   ...\n",
       "237                      Jamaica    33\n",
       "238                        Japan    33\n",
       "239                       Jordan    33\n",
       "240                    IDA total    33\n",
       "241                     Zimbabwe    33\n",
       "\n",
       "[202 rows x 2 columns]"
      ]
     },
     "execution_count": 22,
     "metadata": {},
     "output_type": "execute_result"
    }
   ],
   "source": [
    "year_count_df[year_count_df['Year']==33]"
   ]
  },
  {
   "cell_type": "code",
   "execution_count": 23,
   "id": "ede2d04f-c7c7-4d60-9d43-40a946d3ba27",
   "metadata": {},
   "outputs": [
    {
     "data": {
      "text/plain": [
       "Country    202\n",
       "Year       202\n",
       "dtype: int64"
      ]
     },
     "execution_count": 23,
     "metadata": {},
     "output_type": "execute_result"
    }
   ],
   "source": [
    "year_count_df[year_count_df['Year']==33].count()"
   ]
  },
  {
   "cell_type": "code",
   "execution_count": 24,
   "id": "a41c49b9-a2f5-4f5f-9917-7c609dca74f1",
   "metadata": {},
   "outputs": [],
   "source": [
    "#It looks like 1/6 of the countries of the world did not start recording GDP/were active until the 90's or later."
   ]
  },
  {
   "cell_type": "code",
   "execution_count": 25,
   "id": "b7e7bf58-d36e-4bc3-80cc-583a46d76613",
   "metadata": {
    "scrolled": true
   },
   "outputs": [
    {
     "data": {
      "text/html": [
       "<div>\n",
       "<style scoped>\n",
       "    .dataframe tbody tr th:only-of-type {\n",
       "        vertical-align: middle;\n",
       "    }\n",
       "\n",
       "    .dataframe tbody tr th {\n",
       "        vertical-align: top;\n",
       "    }\n",
       "\n",
       "    .dataframe thead th {\n",
       "        text-align: right;\n",
       "    }\n",
       "</style>\n",
       "<table border=\"1\" class=\"dataframe\">\n",
       "  <thead>\n",
       "    <tr style=\"text-align: right;\">\n",
       "      <th></th>\n",
       "      <th>Year</th>\n",
       "      <th>GDP_Per_Capita</th>\n",
       "    </tr>\n",
       "    <tr>\n",
       "      <th>Country</th>\n",
       "      <th></th>\n",
       "      <th></th>\n",
       "    </tr>\n",
       "  </thead>\n",
       "  <tbody>\n",
       "    <tr>\n",
       "      <th>Somalia</th>\n",
       "      <td>2013</td>\n",
       "      <td>889.166677</td>\n",
       "    </tr>\n",
       "    <tr>\n",
       "      <th>Djibouti</th>\n",
       "      <td>2013</td>\n",
       "      <td>3664.268036</td>\n",
       "    </tr>\n",
       "    <tr>\n",
       "      <th>Turks and Caicos Islands</th>\n",
       "      <td>2011</td>\n",
       "      <td>25731.283253</td>\n",
       "    </tr>\n",
       "    <tr>\n",
       "      <th>Sint Maarten (Dutch part)</th>\n",
       "      <td>2009</td>\n",
       "      <td>41969.404381</td>\n",
       "    </tr>\n",
       "    <tr>\n",
       "      <th>Kosovo</th>\n",
       "      <td>2008</td>\n",
       "      <td>7032.452297</td>\n",
       "    </tr>\n",
       "    <tr>\n",
       "      <th>Cayman Islands</th>\n",
       "      <td>2006</td>\n",
       "      <td>84778.384261</td>\n",
       "    </tr>\n",
       "    <tr>\n",
       "      <th>Nauru</th>\n",
       "      <td>2004</td>\n",
       "      <td>5342.330551</td>\n",
       "    </tr>\n",
       "    <tr>\n",
       "      <th>Afghanistan</th>\n",
       "      <td>2002</td>\n",
       "      <td>1280.463171</td>\n",
       "    </tr>\n",
       "    <tr>\n",
       "      <th>SÃ£o TomÃ© and Principe</th>\n",
       "      <td>2001</td>\n",
       "      <td>2558.983512</td>\n",
       "    </tr>\n",
       "    <tr>\n",
       "      <th>Palau</th>\n",
       "      <td>2000</td>\n",
       "      <td>13301.254248</td>\n",
       "    </tr>\n",
       "    <tr>\n",
       "      <th>CuraÃ§ao</th>\n",
       "      <td>2000</td>\n",
       "      <td>28613.900065</td>\n",
       "    </tr>\n",
       "    <tr>\n",
       "      <th>Other small states</th>\n",
       "      <td>2000</td>\n",
       "      <td>13522.865601</td>\n",
       "    </tr>\n",
       "    <tr>\n",
       "      <th>Qatar</th>\n",
       "      <td>2000</td>\n",
       "      <td>79400.433413</td>\n",
       "    </tr>\n",
       "    <tr>\n",
       "      <th>Timor-Leste</th>\n",
       "      <td>2000</td>\n",
       "      <td>2314.810099</td>\n",
       "    </tr>\n",
       "    <tr>\n",
       "      <th>Liberia</th>\n",
       "      <td>2000</td>\n",
       "      <td>1725.144894</td>\n",
       "    </tr>\n",
       "    <tr>\n",
       "      <th>Libya</th>\n",
       "      <td>1999</td>\n",
       "      <td>26668.444336</td>\n",
       "    </tr>\n",
       "    <tr>\n",
       "      <th>Montenegro</th>\n",
       "      <td>1997</td>\n",
       "      <td>12579.285087</td>\n",
       "    </tr>\n",
       "    <tr>\n",
       "      <th>San Marino</th>\n",
       "      <td>1997</td>\n",
       "      <td>66407.513921</td>\n",
       "    </tr>\n",
       "    <tr>\n",
       "      <th>Small states</th>\n",
       "      <td>1997</td>\n",
       "      <td>12077.174861</td>\n",
       "    </tr>\n",
       "    <tr>\n",
       "      <th>Croatia</th>\n",
       "      <td>1995</td>\n",
       "      <td>15083.558943</td>\n",
       "    </tr>\n",
       "    <tr>\n",
       "      <th>Lithuania</th>\n",
       "      <td>1995</td>\n",
       "      <td>10640.360031</td>\n",
       "    </tr>\n",
       "    <tr>\n",
       "      <th>Moldova</th>\n",
       "      <td>1995</td>\n",
       "      <td>5617.908105</td>\n",
       "    </tr>\n",
       "    <tr>\n",
       "      <th>Slovenia</th>\n",
       "      <td>1995</td>\n",
       "      <td>21480.327976</td>\n",
       "    </tr>\n",
       "    <tr>\n",
       "      <th>Israel</th>\n",
       "      <td>1995</td>\n",
       "      <td>26891.425123</td>\n",
       "    </tr>\n",
       "    <tr>\n",
       "      <th>Latvia</th>\n",
       "      <td>1995</td>\n",
       "      <td>9599.146005</td>\n",
       "    </tr>\n",
       "    <tr>\n",
       "      <th>Maldives</th>\n",
       "      <td>1995</td>\n",
       "      <td>10430.788646</td>\n",
       "    </tr>\n",
       "    <tr>\n",
       "      <th>Iceland</th>\n",
       "      <td>1995</td>\n",
       "      <td>33666.180499</td>\n",
       "    </tr>\n",
       "    <tr>\n",
       "      <th>Serbia</th>\n",
       "      <td>1995</td>\n",
       "      <td>7752.202576</td>\n",
       "    </tr>\n",
       "    <tr>\n",
       "      <th>Estonia</th>\n",
       "      <td>1995</td>\n",
       "      <td>12730.717414</td>\n",
       "    </tr>\n",
       "    <tr>\n",
       "      <th>West Bank and Gaza</th>\n",
       "      <td>1994</td>\n",
       "      <td>3951.205493</td>\n",
       "    </tr>\n",
       "    <tr>\n",
       "      <th>Bosnia and Herzegovina</th>\n",
       "      <td>1994</td>\n",
       "      <td>1730.122678</td>\n",
       "    </tr>\n",
       "    <tr>\n",
       "      <th>Cambodia</th>\n",
       "      <td>1993</td>\n",
       "      <td>1716.840958</td>\n",
       "    </tr>\n",
       "    <tr>\n",
       "      <th>Slovak Republic</th>\n",
       "      <td>1992</td>\n",
       "      <td>11695.349228</td>\n",
       "    </tr>\n",
       "    <tr>\n",
       "      <th>Kuwait</th>\n",
       "      <td>1992</td>\n",
       "      <td>41446.963751</td>\n",
       "    </tr>\n",
       "    <tr>\n",
       "      <th>Hungary</th>\n",
       "      <td>1991</td>\n",
       "      <td>16426.940584</td>\n",
       "    </tr>\n",
       "  </tbody>\n",
       "</table>\n",
       "</div>"
      ],
      "text/plain": [
       "                           Year  GDP_Per_Capita\n",
       "Country                                        \n",
       "Somalia                    2013      889.166677\n",
       "Djibouti                   2013     3664.268036\n",
       "Turks and Caicos Islands   2011    25731.283253\n",
       "Sint Maarten (Dutch part)  2009    41969.404381\n",
       "Kosovo                     2008     7032.452297\n",
       "Cayman Islands             2006    84778.384261\n",
       "Nauru                      2004     5342.330551\n",
       "Afghanistan                2002     1280.463171\n",
       "SÃ£o TomÃ© and Principe    2001     2558.983512\n",
       "Palau                      2000    13301.254248\n",
       "CuraÃ§ao                   2000    28613.900065\n",
       "Other small states         2000    13522.865601\n",
       "Qatar                      2000    79400.433413\n",
       "Timor-Leste                2000     2314.810099\n",
       "Liberia                    2000     1725.144894\n",
       "Libya                      1999    26668.444336\n",
       "Montenegro                 1997    12579.285087\n",
       "San Marino                 1997    66407.513921\n",
       "Small states               1997    12077.174861\n",
       "Croatia                    1995    15083.558943\n",
       "Lithuania                  1995    10640.360031\n",
       "Moldova                    1995     5617.908105\n",
       "Slovenia                   1995    21480.327976\n",
       "Israel                     1995    26891.425123\n",
       "Latvia                     1995     9599.146005\n",
       "Maldives                   1995    10430.788646\n",
       "Iceland                    1995    33666.180499\n",
       "Serbia                     1995     7752.202576\n",
       "Estonia                    1995    12730.717414\n",
       "West Bank and Gaza         1994     3951.205493\n",
       "Bosnia and Herzegovina     1994     1730.122678\n",
       "Cambodia                   1993     1716.840958\n",
       "Slovak Republic            1992    11695.349228\n",
       "Kuwait                     1992    41446.963751\n",
       "Hungary                    1991    16426.940584"
      ]
     },
     "execution_count": 25,
     "metadata": {},
     "output_type": "execute_result"
    }
   ],
   "source": [
    "#Ryan Approach: \n",
    "gdp_years = gdp_df.groupby(\"Country\")\n",
    "gdp_last = gdp_years.last()\n",
    "gdp_min = gdp_last.sort_values(by=\"Year\",ascending=False)\n",
    "# All countries' first appearance in the dataset\n",
    "gdp_min[gdp_min[\"Year\"]>1990]\n",
    "# All countries' whose first appearance was after 1990"
   ]
  },
  {
   "cell_type": "code",
   "execution_count": 26,
   "id": "d1e7fedc-6948-432b-beab-1967ccf2d178",
   "metadata": {},
   "outputs": [
    {
     "name": "stdout",
     "output_type": "stream",
     "text": [
      "Year\n",
      "1990    207\n",
      "1991    208\n",
      "1992    210\n",
      "1993    211\n",
      "1994    213\n",
      "1995    223\n",
      "1996    223\n",
      "1997    226\n",
      "1998    226\n",
      "1999    227\n",
      "2000    233\n",
      "2001    234\n",
      "2002    235\n",
      "2003    235\n",
      "2004    236\n",
      "2005    236\n",
      "2006    237\n",
      "2007    237\n",
      "2008    238\n",
      "2009    239\n",
      "2010    239\n",
      "2011    240\n",
      "2012    240\n",
      "2013    242\n",
      "2014    242\n",
      "2015    242\n",
      "2016    242\n",
      "2017    242\n",
      "2018    242\n",
      "2019    242\n",
      "2020    242\n",
      "2021    241\n",
      "2022    232\n"
     ]
    }
   ],
   "source": [
    "gdp_countries = gdp_df.groupby(\"Year\")\n",
    "gdp_observations = gdp_countries[\"Country\"].count()\n",
    "print(gdp_observations.to_string()) # Number of countries per year"
   ]
  },
  {
   "cell_type": "markdown",
   "id": "5b5e875d-0290-4996-9bba-16c079373960",
   "metadata": {},
   "source": [
    "### 8. In this question, you're going to create some plots to show the distribution of GDP per capita for the year 2020. Go to the Python Graph Gallery (https://www.python-graph-gallery.com/) and look at the different types of plots under the Distribution section. Create a histogram, a density plot, a boxplot, and a violin plot. What do you notice when you look at these plots? How do the plots compare and what information can you get out of one type that you can't necessarily get out of the others?"
   ]
  },
  {
   "cell_type": "code",
   "execution_count": 28,
   "id": "d66de84b-b4cc-41ad-b0b8-47336fe77e19",
   "metadata": {
    "scrolled": true
   },
   "outputs": [
    {
     "data": {
      "text/plain": [
       "<seaborn.axisgrid.FacetGrid at 0x1f2b3b45040>"
      ]
     },
     "execution_count": 28,
     "metadata": {},
     "output_type": "execute_result"
    },
    {
     "data": {
      "image/png": "[encoded data removed]",
      "text/plain": [
       "<Figure size 500x500 with 1 Axes>"
      ]
     },
     "metadata": {},
     "output_type": "display_data"
    }
   ],
   "source": [
    "filtered_gdp = gdp_df[gdp_df['Year']==2020]\n",
    "filtered_gdp\n",
    "sns.displot( data=filtered_gdp, y='GDP_Per_Capita', bins = 50)"
   ]
  },
  {
   "cell_type": "code",
   "execution_count": 29,
   "id": "44f8ac26-1dba-41d3-8234-eb0733fb4d1d",
   "metadata": {},
   "outputs": [
    {
     "data": {
      "text/plain": [
       "<Axes: xlabel='GDP_Per_Capita', ylabel='Density'>"
      ]
     },
     "execution_count": 29,
     "metadata": {},
     "output_type": "execute_result"
    },
    {
     "data": {
      "image/png": "[encoded data removed]",
      "text/plain": [
       "<Figure size 640x480 with 1 Axes>"
      ]
     },
     "metadata": {},
     "output_type": "display_data"
    }
   ],
   "source": [
    "sns.kdeplot(filtered_gdp['GDP_Per_Capita'])"
   ]
  },
  {
   "cell_type": "code",
   "execution_count": 30,
   "id": "795749d1-33ff-40bd-afe5-ac7598a7b503",
   "metadata": {},
   "outputs": [
    {
     "data": {
      "text/plain": [
       "<Axes: xlabel='GDP_Per_Capita'>"
      ]
     },
     "execution_count": 30,
     "metadata": {},
     "output_type": "execute_result"
    },
    {
     "data": {
      "image/png": "[encoded data removed]",
      "text/plain": [
       "<Figure size 640x480 with 1 Axes>"
      ]
     },
     "metadata": {},
     "output_type": "display_data"
    }
   ],
   "source": [
    "sns.boxplot(x=\"GDP_Per_Capita\", data=filtered_gdp )"
   ]
  },
  {
   "cell_type": "code",
   "execution_count": 31,
   "id": "6314989f-dc13-49c2-a269-b5928dde4a00",
   "metadata": {},
   "outputs": [
    {
     "data": {
      "text/plain": [
       "<Axes: ylabel='GDP_Per_Capita'>"
      ]
     },
     "execution_count": 31,
     "metadata": {},
     "output_type": "execute_result"
    },
    {
     "data": {
      "image/png": "[encoded data removed]",
      "text/plain": [
       "<Figure size 640x480 with 1 Axes>"
      ]
     },
     "metadata": {},
     "output_type": "display_data"
    }
   ],
   "source": [
    "sns.violinplot(y=\"GDP_Per_Capita\", data=filtered_gdp)"
   ]
  },
  {
   "cell_type": "markdown",
   "id": "c9dfdfd6-9ba3-411d-950e-1c369da16c90",
   "metadata": {},
   "source": [
    "### 9.What was the median GDP per capita value in 2020?"
   ]
  },
  {
   "cell_type": "code",
   "execution_count": 33,
   "id": "216e073f-fa84-44c5-b43f-527c16e52691",
   "metadata": {},
   "outputs": [
    {
     "data": {
      "text/plain": [
       "13357.997573370474"
      ]
     },
     "execution_count": 33,
     "metadata": {},
     "output_type": "execute_result"
    }
   ],
   "source": [
    "filtered_gdp['GDP_Per_Capita'].median()"
   ]
  },
  {
   "cell_type": "markdown",
   "id": "8261fae3-5824-4191-8e2b-48065946aa71",
   "metadata": {},
   "source": [
    "### 10. For this question, you're going to create some visualizations to compare GDP per capita values for the years 1990, 2000, 2010, and 2020. Start by subsetting your data to just these 4 years into a new DataFrame named gdp_decades. Using this, create the following 4 plots:"
   ]
  },
  {
   "cell_type": "code",
   "execution_count": 35,
   "id": "52ca8be8-3d15-43c9-a98f-133b660377ef",
   "metadata": {},
   "outputs": [
    {
     "data": {
      "text/html": [
       "<div>\n",
       "<style scoped>\n",
       "    .dataframe tbody tr th:only-of-type {\n",
       "        vertical-align: middle;\n",
       "    }\n",
       "\n",
       "    .dataframe tbody tr th {\n",
       "        vertical-align: top;\n",
       "    }\n",
       "\n",
       "    .dataframe thead th {\n",
       "        text-align: right;\n",
       "    }\n",
       "</style>\n",
       "<table border=\"1\" class=\"dataframe\">\n",
       "  <thead>\n",
       "    <tr style=\"text-align: right;\">\n",
       "      <th></th>\n",
       "      <th>Country</th>\n",
       "      <th>Year</th>\n",
       "      <th>GDP_Per_Capita</th>\n",
       "    </tr>\n",
       "  </thead>\n",
       "  <tbody>\n",
       "    <tr>\n",
       "      <th>1</th>\n",
       "      <td>Afghanistan</td>\n",
       "      <td>2020</td>\n",
       "      <td>1968.341002</td>\n",
       "    </tr>\n",
       "    <tr>\n",
       "      <th>11</th>\n",
       "      <td>Afghanistan</td>\n",
       "      <td>2010</td>\n",
       "      <td>2026.163818</td>\n",
       "    </tr>\n",
       "    <tr>\n",
       "      <th>22</th>\n",
       "      <td>Africa Eastern and Southern</td>\n",
       "      <td>2020</td>\n",
       "      <td>3455.023119</td>\n",
       "    </tr>\n",
       "    <tr>\n",
       "      <th>32</th>\n",
       "      <td>Africa Eastern and Southern</td>\n",
       "      <td>2010</td>\n",
       "      <td>3513.315920</td>\n",
       "    </tr>\n",
       "    <tr>\n",
       "      <th>42</th>\n",
       "      <td>Africa Eastern and Southern</td>\n",
       "      <td>2000</td>\n",
       "      <td>2897.140841</td>\n",
       "    </tr>\n",
       "    <tr>\n",
       "      <th>...</th>\n",
       "      <td>...</td>\n",
       "      <td>...</td>\n",
       "      <td>...</td>\n",
       "    </tr>\n",
       "    <tr>\n",
       "      <th>7628</th>\n",
       "      <td>Zambia</td>\n",
       "      <td>1990</td>\n",
       "      <td>2290.039226</td>\n",
       "    </tr>\n",
       "    <tr>\n",
       "      <th>7631</th>\n",
       "      <td>Zimbabwe</td>\n",
       "      <td>2020</td>\n",
       "      <td>1990.319419</td>\n",
       "    </tr>\n",
       "    <tr>\n",
       "      <th>7641</th>\n",
       "      <td>Zimbabwe</td>\n",
       "      <td>2010</td>\n",
       "      <td>1799.540233</td>\n",
       "    </tr>\n",
       "    <tr>\n",
       "      <th>7651</th>\n",
       "      <td>Zimbabwe</td>\n",
       "      <td>2000</td>\n",
       "      <td>2750.601236</td>\n",
       "    </tr>\n",
       "    <tr>\n",
       "      <th>7661</th>\n",
       "      <td>Zimbabwe</td>\n",
       "      <td>1990</td>\n",
       "      <td>2704.757299</td>\n",
       "    </tr>\n",
       "  </tbody>\n",
       "</table>\n",
       "<p>921 rows × 3 columns</p>\n",
       "</div>"
      ],
      "text/plain": [
       "                          Country  Year  GDP_Per_Capita\n",
       "1                     Afghanistan  2020     1968.341002\n",
       "11                    Afghanistan  2010     2026.163818\n",
       "22    Africa Eastern and Southern  2020     3455.023119\n",
       "32    Africa Eastern and Southern  2010     3513.315920\n",
       "42    Africa Eastern and Southern  2000     2897.140841\n",
       "...                           ...   ...             ...\n",
       "7628                       Zambia  1990     2290.039226\n",
       "7631                     Zimbabwe  2020     1990.319419\n",
       "7641                     Zimbabwe  2010     1799.540233\n",
       "7651                     Zimbabwe  2000     2750.601236\n",
       "7661                     Zimbabwe  1990     2704.757299\n",
       "\n",
       "[921 rows x 3 columns]"
      ]
     },
     "execution_count": 35,
     "metadata": {},
     "output_type": "execute_result"
    }
   ],
   "source": [
    "gdp_decades = (1990,2000,2010,2020)\n",
    "q10 = gdp_df[gdp_df['Year'].isin(gdp_decades)]\n",
    "q10"
   ]
  },
  {
   "cell_type": "markdown",
   "id": "c2f63c6d-2839-4454-8af9-9d2e8eabe9c1",
   "metadata": {},
   "source": [
    "### A boxplot"
   ]
  },
  {
   "cell_type": "code",
   "execution_count": 37,
   "id": "7cdf0a66-a792-468c-80c7-d531efb139f2",
   "metadata": {},
   "outputs": [
    {
     "data": {
      "text/plain": [
       "<Axes: xlabel='Year', ylabel='GDP_Per_Capita'>"
      ]
     },
     "execution_count": 37,
     "metadata": {},
     "output_type": "execute_result"
    },
    {
     "data": {
      "image/png": "[encoded data removed]",
      "text/plain": [
       "<Figure size 640x480 with 1 Axes>"
      ]
     },
     "metadata": {},
     "output_type": "display_data"
    }
   ],
   "source": [
    "sns.boxplot(x=\"Year\", y=\"GDP_Per_Capita\", data=q10)"
   ]
  },
  {
   "cell_type": "markdown",
   "id": "cf4b0ce5-d075-4347-b2a9-5c250f9bd259",
   "metadata": {},
   "source": [
    "### A barplot"
   ]
  },
  {
   "cell_type": "code",
   "execution_count": 39,
   "id": "a6ff86ee-d2ca-40d4-ad2b-64f5b41f518e",
   "metadata": {},
   "outputs": [
    {
     "data": {
      "text/plain": [
       "<Axes: xlabel='Year', ylabel='GDP_Per_Capita'>"
      ]
     },
     "execution_count": 39,
     "metadata": {},
     "output_type": "execute_result"
    },
    {
     "data": {
      "image/png": "[encoded data removed]",
      "text/plain": [
       "<Figure size 640x480 with 1 Axes>"
      ]
     },
     "metadata": {},
     "output_type": "display_data"
    }
   ],
   "source": [
    "sns.barplot(x=q10.Year, y=q10.GDP_Per_Capita)"
   ]
  },
  {
   "cell_type": "markdown",
   "id": "6af8f7ca-0a65-4961-8a23-7bb388433233",
   "metadata": {},
   "source": [
    "### A scatterplot"
   ]
  },
  {
   "cell_type": "code",
   "execution_count": 41,
   "id": "8e7a174d-40d6-4304-8bde-6a8fb94711d8",
   "metadata": {},
   "outputs": [
    {
     "data": {
      "text/plain": [
       "<Axes: xlabel='Year', ylabel='GDP_Per_Capita'>"
      ]
     },
     "execution_count": 41,
     "metadata": {},
     "output_type": "execute_result"
    },
    {
     "data": {
      "image/png": "[encoded data removed]",
      "text/plain": [
       "<Figure size 640x480 with 1 Axes>"
      ]
     },
     "metadata": {},
     "output_type": "display_data"
    }
   ],
   "source": [
    "sns.scatterplot(y=q10[\"GDP_Per_Capita\"], x=q10[\"Year\"] )"
   ]
  },
  {
   "cell_type": "markdown",
   "id": "955af7c1-9487-4fb0-a039-4981b7154928",
   "metadata": {},
   "source": [
    "### A scatterplot with a trend line overlaid"
   ]
  },
  {
   "cell_type": "code",
   "execution_count": 43,
   "id": "d6d50e12-8bba-4f8a-84c6-95d0f103e02b",
   "metadata": {},
   "outputs": [
    {
     "data": {
      "text/plain": [
       "<Axes: xlabel='Year', ylabel='GDP_Per_Capita'>"
      ]
     },
     "execution_count": 43,
     "metadata": {},
     "output_type": "execute_result"
    },
    {
     "data": {
      "image/png": "[encoded data removed]",
      "text/plain": [
       "<Figure size 640x480 with 1 Axes>"
      ]
     },
     "metadata": {},
     "output_type": "display_data"
    }
   ],
   "source": [
    "sns.regplot(y=q10[\"GDP_Per_Capita\"], x=q10[\"Year\"], line_kws={\"color\":\"red\", \"linewidth\": 2})"
   ]
  },
  {
   "cell_type": "code",
   "execution_count": null,
   "id": "f8ad5dfa-d0f8-4b18-b275-43385655e3f4",
   "metadata": {},
   "outputs": [],
   "source": []
  },
  {
   "cell_type": "code",
   "execution_count": null,
   "id": "a49ae51c-0c06-43d0-bd3b-a7cb0918f609",
   "metadata": {},
   "outputs": [],
   "source": []
  },
  {
   "cell_type": "markdown",
   "id": "401aa155-fd1d-44cf-9ab4-c123db39514f",
   "metadata": {},
   "source": [
    "### 11. Which country was the first to have a GDP per capita greater than $100,000?"
   ]
  },
  {
   "cell_type": "code",
   "execution_count": 45,
   "id": "aa412e33-aae5-4f69-b438-2c1edb5fa4af",
   "metadata": {},
   "outputs": [],
   "source": [
    "over_100k = gdp_df[gdp_df['GDP_Per_Capita']>100000]"
   ]
  },
  {
   "cell_type": "code",
   "execution_count": 46,
   "id": "f91bc1d9-01d8-4a20-8492-bde6a7aad58e",
   "metadata": {},
   "outputs": [],
   "source": [
    "country_over_100k = over_100k[over_100k['Year']==over_100k['Year'].min()]"
   ]
  },
  {
   "cell_type": "code",
   "execution_count": 47,
   "id": "f05a790a-d0d8-4881-951e-92b33782d536",
   "metadata": {},
   "outputs": [
    {
     "data": {
      "text/html": [
       "<div>\n",
       "<style scoped>\n",
       "    .dataframe tbody tr th:only-of-type {\n",
       "        vertical-align: middle;\n",
       "    }\n",
       "\n",
       "    .dataframe tbody tr th {\n",
       "        vertical-align: top;\n",
       "    }\n",
       "\n",
       "    .dataframe thead th {\n",
       "        text-align: right;\n",
       "    }\n",
       "</style>\n",
       "<table border=\"1\" class=\"dataframe\">\n",
       "  <thead>\n",
       "    <tr style=\"text-align: right;\">\n",
       "      <th></th>\n",
       "      <th>Country</th>\n",
       "      <th>Year</th>\n",
       "      <th>GDP_Per_Capita</th>\n",
       "    </tr>\n",
       "  </thead>\n",
       "  <tbody>\n",
       "    <tr>\n",
       "      <th>7302</th>\n",
       "      <td>United Arab Emirates</td>\n",
       "      <td>1990</td>\n",
       "      <td>105893.626059</td>\n",
       "    </tr>\n",
       "  </tbody>\n",
       "</table>\n",
       "</div>"
      ],
      "text/plain": [
       "                   Country  Year  GDP_Per_Capita\n",
       "7302  United Arab Emirates  1990   105893.626059"
      ]
     },
     "execution_count": 47,
     "metadata": {},
     "output_type": "execute_result"
    }
   ],
   "source": [
    "country_over_100k"
   ]
  },
  {
   "cell_type": "markdown",
   "id": "2e71790b-7a60-44e2-89ad-0ddc4d8fcb32",
   "metadata": {},
   "source": [
    "### 12. Which country had the highest GDP per capita in 2020? Create a plot showing how this country's GDP per capita has changed over the timespan of the dataset."
   ]
  },
  {
   "cell_type": "code",
   "execution_count": 49,
   "id": "1aec9e37-d3f1-438d-b726-288bed0ce87e",
   "metadata": {},
   "outputs": [
    {
     "data": {
      "text/html": [
       "<div>\n",
       "<style scoped>\n",
       "    .dataframe tbody tr th:only-of-type {\n",
       "        vertical-align: middle;\n",
       "    }\n",
       "\n",
       "    .dataframe tbody tr th {\n",
       "        vertical-align: top;\n",
       "    }\n",
       "\n",
       "    .dataframe thead th {\n",
       "        text-align: right;\n",
       "    }\n",
       "</style>\n",
       "<table border=\"1\" class=\"dataframe\">\n",
       "  <thead>\n",
       "    <tr style=\"text-align: right;\">\n",
       "      <th></th>\n",
       "      <th>Country</th>\n",
       "      <th>Year</th>\n",
       "      <th>GDP_Per_Capita</th>\n",
       "    </tr>\n",
       "  </thead>\n",
       "  <tbody>\n",
       "    <tr>\n",
       "      <th>4148</th>\n",
       "      <td>Luxembourg</td>\n",
       "      <td>2020</td>\n",
       "      <td>111751.314751</td>\n",
       "    </tr>\n",
       "  </tbody>\n",
       "</table>\n",
       "</div>"
      ],
      "text/plain": [
       "         Country  Year  GDP_Per_Capita\n",
       "4148  Luxembourg  2020   111751.314751"
      ]
     },
     "execution_count": 49,
     "metadata": {},
     "output_type": "execute_result"
    }
   ],
   "source": [
    "top_gdp_2020 = filtered_gdp['GDP_Per_Capita'].max()\n",
    "TG2_Country = filtered_gdp[filtered_gdp['GDP_Per_Capita']==top_gdp_2020]\n",
    "TG2_Country"
   ]
  },
  {
   "cell_type": "code",
   "execution_count": 50,
   "id": "07aa4767-e039-4710-9cea-08d7093fbf1c",
   "metadata": {},
   "outputs": [
    {
     "data": {
      "text/html": [
       "<div>\n",
       "<style scoped>\n",
       "    .dataframe tbody tr th:only-of-type {\n",
       "        vertical-align: middle;\n",
       "    }\n",
       "\n",
       "    .dataframe tbody tr th {\n",
       "        vertical-align: top;\n",
       "    }\n",
       "\n",
       "    .dataframe thead th {\n",
       "        text-align: right;\n",
       "    }\n",
       "</style>\n",
       "<table border=\"1\" class=\"dataframe\">\n",
       "  <thead>\n",
       "    <tr style=\"text-align: right;\">\n",
       "      <th></th>\n",
       "      <th>Country</th>\n",
       "      <th>Year</th>\n",
       "      <th>GDP_Per_Capita</th>\n",
       "    </tr>\n",
       "  </thead>\n",
       "  <tbody>\n",
       "    <tr>\n",
       "      <th>4146</th>\n",
       "      <td>Luxembourg</td>\n",
       "      <td>2022</td>\n",
       "      <td>115541.774828</td>\n",
       "    </tr>\n",
       "    <tr>\n",
       "      <th>4147</th>\n",
       "      <td>Luxembourg</td>\n",
       "      <td>2021</td>\n",
       "      <td>115683.493708</td>\n",
       "    </tr>\n",
       "    <tr>\n",
       "      <th>4148</th>\n",
       "      <td>Luxembourg</td>\n",
       "      <td>2020</td>\n",
       "      <td>111751.314751</td>\n",
       "    </tr>\n",
       "    <tr>\n",
       "      <th>4149</th>\n",
       "      <td>Luxembourg</td>\n",
       "      <td>2019</td>\n",
       "      <td>114542.496934</td>\n",
       "    </tr>\n",
       "    <tr>\n",
       "      <th>4150</th>\n",
       "      <td>Luxembourg</td>\n",
       "      <td>2018</td>\n",
       "      <td>114164.468558</td>\n",
       "    </tr>\n",
       "    <tr>\n",
       "      <th>4151</th>\n",
       "      <td>Luxembourg</td>\n",
       "      <td>2017</td>\n",
       "      <td>114985.842236</td>\n",
       "    </tr>\n",
       "    <tr>\n",
       "      <th>4152</th>\n",
       "      <td>Luxembourg</td>\n",
       "      <td>2016</td>\n",
       "      <td>116283.699681</td>\n",
       "    </tr>\n",
       "    <tr>\n",
       "      <th>4153</th>\n",
       "      <td>Luxembourg</td>\n",
       "      <td>2015</td>\n",
       "      <td>113182.728563</td>\n",
       "    </tr>\n",
       "    <tr>\n",
       "      <th>4154</th>\n",
       "      <td>Luxembourg</td>\n",
       "      <td>2014</td>\n",
       "      <td>113313.578898</td>\n",
       "    </tr>\n",
       "    <tr>\n",
       "      <th>4155</th>\n",
       "      <td>Luxembourg</td>\n",
       "      <td>2013</td>\n",
       "      <td>113050.663254</td>\n",
       "    </tr>\n",
       "    <tr>\n",
       "      <th>4156</th>\n",
       "      <td>Luxembourg</td>\n",
       "      <td>2012</td>\n",
       "      <td>112137.135491</td>\n",
       "    </tr>\n",
       "    <tr>\n",
       "      <th>4157</th>\n",
       "      <td>Luxembourg</td>\n",
       "      <td>2011</td>\n",
       "      <td>112998.390477</td>\n",
       "    </tr>\n",
       "    <tr>\n",
       "      <th>4158</th>\n",
       "      <td>Luxembourg</td>\n",
       "      <td>2010</td>\n",
       "      <td>114343.988089</td>\n",
       "    </tr>\n",
       "    <tr>\n",
       "      <th>4159</th>\n",
       "      <td>Luxembourg</td>\n",
       "      <td>2009</td>\n",
       "      <td>112230.081410</td>\n",
       "    </tr>\n",
       "    <tr>\n",
       "      <th>4160</th>\n",
       "      <td>Luxembourg</td>\n",
       "      <td>2008</td>\n",
       "      <td>118154.667184</td>\n",
       "    </tr>\n",
       "    <tr>\n",
       "      <th>4161</th>\n",
       "      <td>Luxembourg</td>\n",
       "      <td>2007</td>\n",
       "      <td>120647.822959</td>\n",
       "    </tr>\n",
       "    <tr>\n",
       "      <th>4162</th>\n",
       "      <td>Luxembourg</td>\n",
       "      <td>2006</td>\n",
       "      <td>113346.035782</td>\n",
       "    </tr>\n",
       "    <tr>\n",
       "      <th>4163</th>\n",
       "      <td>Luxembourg</td>\n",
       "      <td>2005</td>\n",
       "      <td>108632.360016</td>\n",
       "    </tr>\n",
       "    <tr>\n",
       "      <th>4164</th>\n",
       "      <td>Luxembourg</td>\n",
       "      <td>2004</td>\n",
       "      <td>107634.837198</td>\n",
       "    </tr>\n",
       "    <tr>\n",
       "      <th>4165</th>\n",
       "      <td>Luxembourg</td>\n",
       "      <td>2003</td>\n",
       "      <td>104743.000088</td>\n",
       "    </tr>\n",
       "    <tr>\n",
       "      <th>4166</th>\n",
       "      <td>Luxembourg</td>\n",
       "      <td>2002</td>\n",
       "      <td>103317.331098</td>\n",
       "    </tr>\n",
       "    <tr>\n",
       "      <th>4167</th>\n",
       "      <td>Luxembourg</td>\n",
       "      <td>2001</td>\n",
       "      <td>101143.147977</td>\n",
       "    </tr>\n",
       "    <tr>\n",
       "      <th>4168</th>\n",
       "      <td>Luxembourg</td>\n",
       "      <td>2000</td>\n",
       "      <td>99301.526999</td>\n",
       "    </tr>\n",
       "    <tr>\n",
       "      <th>4169</th>\n",
       "      <td>Luxembourg</td>\n",
       "      <td>1999</td>\n",
       "      <td>94115.384035</td>\n",
       "    </tr>\n",
       "    <tr>\n",
       "      <th>4170</th>\n",
       "      <td>Luxembourg</td>\n",
       "      <td>1998</td>\n",
       "      <td>88185.800110</td>\n",
       "    </tr>\n",
       "    <tr>\n",
       "      <th>4171</th>\n",
       "      <td>Luxembourg</td>\n",
       "      <td>1997</td>\n",
       "      <td>83702.813530</td>\n",
       "    </tr>\n",
       "    <tr>\n",
       "      <th>4172</th>\n",
       "      <td>Luxembourg</td>\n",
       "      <td>1996</td>\n",
       "      <td>80401.032017</td>\n",
       "    </tr>\n",
       "    <tr>\n",
       "      <th>4173</th>\n",
       "      <td>Luxembourg</td>\n",
       "      <td>1995</td>\n",
       "      <td>80379.127629</td>\n",
       "    </tr>\n",
       "    <tr>\n",
       "      <th>4174</th>\n",
       "      <td>Luxembourg</td>\n",
       "      <td>1994</td>\n",
       "      <td>80365.224508</td>\n",
       "    </tr>\n",
       "    <tr>\n",
       "      <th>4175</th>\n",
       "      <td>Luxembourg</td>\n",
       "      <td>1993</td>\n",
       "      <td>78468.921760</td>\n",
       "    </tr>\n",
       "    <tr>\n",
       "      <th>4176</th>\n",
       "      <td>Luxembourg</td>\n",
       "      <td>1992</td>\n",
       "      <td>76323.304753</td>\n",
       "    </tr>\n",
       "    <tr>\n",
       "      <th>4177</th>\n",
       "      <td>Luxembourg</td>\n",
       "      <td>1991</td>\n",
       "      <td>75961.668717</td>\n",
       "    </tr>\n",
       "    <tr>\n",
       "      <th>4178</th>\n",
       "      <td>Luxembourg</td>\n",
       "      <td>1990</td>\n",
       "      <td>70860.819124</td>\n",
       "    </tr>\n",
       "  </tbody>\n",
       "</table>\n",
       "</div>"
      ],
      "text/plain": [
       "         Country  Year  GDP_Per_Capita\n",
       "4146  Luxembourg  2022   115541.774828\n",
       "4147  Luxembourg  2021   115683.493708\n",
       "4148  Luxembourg  2020   111751.314751\n",
       "4149  Luxembourg  2019   114542.496934\n",
       "4150  Luxembourg  2018   114164.468558\n",
       "4151  Luxembourg  2017   114985.842236\n",
       "4152  Luxembourg  2016   116283.699681\n",
       "4153  Luxembourg  2015   113182.728563\n",
       "4154  Luxembourg  2014   113313.578898\n",
       "4155  Luxembourg  2013   113050.663254\n",
       "4156  Luxembourg  2012   112137.135491\n",
       "4157  Luxembourg  2011   112998.390477\n",
       "4158  Luxembourg  2010   114343.988089\n",
       "4159  Luxembourg  2009   112230.081410\n",
       "4160  Luxembourg  2008   118154.667184\n",
       "4161  Luxembourg  2007   120647.822959\n",
       "4162  Luxembourg  2006   113346.035782\n",
       "4163  Luxembourg  2005   108632.360016\n",
       "4164  Luxembourg  2004   107634.837198\n",
       "4165  Luxembourg  2003   104743.000088\n",
       "4166  Luxembourg  2002   103317.331098\n",
       "4167  Luxembourg  2001   101143.147977\n",
       "4168  Luxembourg  2000    99301.526999\n",
       "4169  Luxembourg  1999    94115.384035\n",
       "4170  Luxembourg  1998    88185.800110\n",
       "4171  Luxembourg  1997    83702.813530\n",
       "4172  Luxembourg  1996    80401.032017\n",
       "4173  Luxembourg  1995    80379.127629\n",
       "4174  Luxembourg  1994    80365.224508\n",
       "4175  Luxembourg  1993    78468.921760\n",
       "4176  Luxembourg  1992    76323.304753\n",
       "4177  Luxembourg  1991    75961.668717\n",
       "4178  Luxembourg  1990    70860.819124"
      ]
     },
     "execution_count": 50,
     "metadata": {},
     "output_type": "execute_result"
    }
   ],
   "source": [
    "Lux = gdp_df[gdp_df['Country']=='Luxembourg']\n",
    "Lux"
   ]
  },
  {
   "cell_type": "code",
   "execution_count": 51,
   "id": "ea3fb3e5-ec44-4e3c-b9d5-44590e5afe7b",
   "metadata": {
    "scrolled": true
   },
   "outputs": [
    {
     "data": {
      "text/plain": [
       "Text(0, 0.5, 'Year')"
      ]
     },
     "execution_count": 51,
     "metadata": {},
     "output_type": "execute_result"
    },
    {
     "data": {
      "image/png": "[encoded data removed]",
      "text/plain": [
       "<Figure size 640x480 with 1 Axes>"
      ]
     },
     "metadata": {},
     "output_type": "display_data"
    }
   ],
   "source": [
    "plt.barh(width=Lux.GDP_Per_Capita, y=Lux.Year.sort_values())\n",
    "plt.ylim(1989,2023)\n",
    "plt.xlabel('GDP Per Capita')\n",
    "plt.ylabel('Year')"
   ]
  },
  {
   "cell_type": "code",
   "execution_count": 52,
   "id": "62f37929-5ba9-4f6f-9f84-3f55b17c3c97",
   "metadata": {},
   "outputs": [
    {
     "data": {
      "text/plain": [
       "<Axes: xlabel='Year'>"
      ]
     },
     "execution_count": 52,
     "metadata": {},
     "output_type": "execute_result"
    },
    {
     "data": {
      "image/png": "[encoded data removed]",
      "text/plain": [
       "<Figure size 640x480 with 1 Axes>"
      ]
     },
     "metadata": {},
     "output_type": "display_data"
    }
   ],
   "source": [
    "Lux.plot(x='Year', y='GDP_Per_Capita', kind='line')"
   ]
  },
  {
   "cell_type": "markdown",
   "id": "0356e09e-a1f1-4c29-8898-7946ad3937a0",
   "metadata": {},
   "source": [
    "### 13. Which country had the lowest GDP per capita in 2020? Create a plot showing how this country's GDP per capita has changed over the timespan of the dataset. Bonus question: Is it true in general that coutries had a higher GDP per capita in 2020 than in 1990? Which countries had lower GDP per capita in 2020 than in 1990?"
   ]
  },
  {
   "cell_type": "code",
   "execution_count": 54,
   "id": "4dc251ee-e6db-4fe3-96c2-c7603bebdcea",
   "metadata": {},
   "outputs": [
    {
     "data": {
      "text/html": [
       "<div>\n",
       "<style scoped>\n",
       "    .dataframe tbody tr th:only-of-type {\n",
       "        vertical-align: middle;\n",
       "    }\n",
       "\n",
       "    .dataframe tbody tr th {\n",
       "        vertical-align: top;\n",
       "    }\n",
       "\n",
       "    .dataframe thead th {\n",
       "        text-align: right;\n",
       "    }\n",
       "</style>\n",
       "<table border=\"1\" class=\"dataframe\">\n",
       "  <thead>\n",
       "    <tr style=\"text-align: right;\">\n",
       "      <th></th>\n",
       "      <th>Country</th>\n",
       "      <th>Year</th>\n",
       "      <th>GDP_Per_Capita</th>\n",
       "    </tr>\n",
       "  </thead>\n",
       "  <tbody>\n",
       "    <tr>\n",
       "      <th>973</th>\n",
       "      <td>Burundi</td>\n",
       "      <td>2020</td>\n",
       "      <td>711.355263</td>\n",
       "    </tr>\n",
       "  </tbody>\n",
       "</table>\n",
       "</div>"
      ],
      "text/plain": [
       "     Country  Year  GDP_Per_Capita\n",
       "973  Burundi  2020      711.355263"
      ]
     },
     "execution_count": 54,
     "metadata": {},
     "output_type": "execute_result"
    }
   ],
   "source": [
    "bottom_gdp_2020 = filtered_gdp['GDP_Per_Capita'].min()\n",
    "BG2_Country = filtered_gdp[filtered_gdp['GDP_Per_Capita']==bottom_gdp_2020]\n",
    "BG2_Country"
   ]
  },
  {
   "cell_type": "code",
   "execution_count": 55,
   "id": "3c94d6f2-fb5a-448c-a09a-50150fea9be0",
   "metadata": {},
   "outputs": [
    {
     "data": {
      "text/html": [
       "<div>\n",
       "<style scoped>\n",
       "    .dataframe tbody tr th:only-of-type {\n",
       "        vertical-align: middle;\n",
       "    }\n",
       "\n",
       "    .dataframe tbody tr th {\n",
       "        vertical-align: top;\n",
       "    }\n",
       "\n",
       "    .dataframe thead th {\n",
       "        text-align: right;\n",
       "    }\n",
       "</style>\n",
       "<table border=\"1\" class=\"dataframe\">\n",
       "  <thead>\n",
       "    <tr style=\"text-align: right;\">\n",
       "      <th></th>\n",
       "      <th>Country</th>\n",
       "      <th>Year</th>\n",
       "      <th>GDP_Per_Capita</th>\n",
       "    </tr>\n",
       "  </thead>\n",
       "  <tbody>\n",
       "    <tr>\n",
       "      <th>971</th>\n",
       "      <td>Burundi</td>\n",
       "      <td>2022</td>\n",
       "      <td>708.178317</td>\n",
       "    </tr>\n",
       "    <tr>\n",
       "      <th>972</th>\n",
       "      <td>Burundi</td>\n",
       "      <td>2021</td>\n",
       "      <td>714.066712</td>\n",
       "    </tr>\n",
       "    <tr>\n",
       "      <th>973</th>\n",
       "      <td>Burundi</td>\n",
       "      <td>2020</td>\n",
       "      <td>711.355263</td>\n",
       "    </tr>\n",
       "    <tr>\n",
       "      <th>974</th>\n",
       "      <td>Burundi</td>\n",
       "      <td>2019</td>\n",
       "      <td>729.658463</td>\n",
       "    </tr>\n",
       "    <tr>\n",
       "      <th>975</th>\n",
       "      <td>Burundi</td>\n",
       "      <td>2018</td>\n",
       "      <td>740.448223</td>\n",
       "    </tr>\n",
       "    <tr>\n",
       "      <th>976</th>\n",
       "      <td>Burundi</td>\n",
       "      <td>2017</td>\n",
       "      <td>750.787616</td>\n",
       "    </tr>\n",
       "    <tr>\n",
       "      <th>977</th>\n",
       "      <td>Burundi</td>\n",
       "      <td>2016</td>\n",
       "      <td>764.336602</td>\n",
       "    </tr>\n",
       "    <tr>\n",
       "      <th>978</th>\n",
       "      <td>Burundi</td>\n",
       "      <td>2015</td>\n",
       "      <td>781.579287</td>\n",
       "    </tr>\n",
       "    <tr>\n",
       "      <th>979</th>\n",
       "      <td>Burundi</td>\n",
       "      <td>2014</td>\n",
       "      <td>831.294839</td>\n",
       "    </tr>\n",
       "    <tr>\n",
       "      <th>980</th>\n",
       "      <td>Burundi</td>\n",
       "      <td>2013</td>\n",
       "      <td>824.610523</td>\n",
       "    </tr>\n",
       "    <tr>\n",
       "      <th>981</th>\n",
       "      <td>Burundi</td>\n",
       "      <td>2012</td>\n",
       "      <td>814.320771</td>\n",
       "    </tr>\n",
       "    <tr>\n",
       "      <th>982</th>\n",
       "      <td>Burundi</td>\n",
       "      <td>2011</td>\n",
       "      <td>807.664958</td>\n",
       "    </tr>\n",
       "    <tr>\n",
       "      <th>983</th>\n",
       "      <td>Burundi</td>\n",
       "      <td>2010</td>\n",
       "      <td>804.354941</td>\n",
       "    </tr>\n",
       "    <tr>\n",
       "      <th>984</th>\n",
       "      <td>Burundi</td>\n",
       "      <td>2009</td>\n",
       "      <td>801.803427</td>\n",
       "    </tr>\n",
       "    <tr>\n",
       "      <th>985</th>\n",
       "      <td>Burundi</td>\n",
       "      <td>2008</td>\n",
       "      <td>812.592170</td>\n",
       "    </tr>\n",
       "    <tr>\n",
       "      <th>986</th>\n",
       "      <td>Burundi</td>\n",
       "      <td>2007</td>\n",
       "      <td>807.447481</td>\n",
       "    </tr>\n",
       "    <tr>\n",
       "      <th>987</th>\n",
       "      <td>Burundi</td>\n",
       "      <td>2006</td>\n",
       "      <td>809.696011</td>\n",
       "    </tr>\n",
       "    <tr>\n",
       "      <th>988</th>\n",
       "      <td>Burundi</td>\n",
       "      <td>2005</td>\n",
       "      <td>796.108713</td>\n",
       "    </tr>\n",
       "    <tr>\n",
       "      <th>989</th>\n",
       "      <td>Burundi</td>\n",
       "      <td>2004</td>\n",
       "      <td>818.746063</td>\n",
       "    </tr>\n",
       "    <tr>\n",
       "      <th>990</th>\n",
       "      <td>Burundi</td>\n",
       "      <td>2003</td>\n",
       "      <td>810.552335</td>\n",
       "    </tr>\n",
       "    <tr>\n",
       "      <th>991</th>\n",
       "      <td>Burundi</td>\n",
       "      <td>2002</td>\n",
       "      <td>846.747295</td>\n",
       "    </tr>\n",
       "    <tr>\n",
       "      <th>992</th>\n",
       "      <td>Burundi</td>\n",
       "      <td>2001</td>\n",
       "      <td>833.670879</td>\n",
       "    </tr>\n",
       "    <tr>\n",
       "      <th>993</th>\n",
       "      <td>Burundi</td>\n",
       "      <td>2000</td>\n",
       "      <td>837.348411</td>\n",
       "    </tr>\n",
       "    <tr>\n",
       "      <th>994</th>\n",
       "      <td>Burundi</td>\n",
       "      <td>1999</td>\n",
       "      <td>862.006680</td>\n",
       "    </tr>\n",
       "    <tr>\n",
       "      <th>995</th>\n",
       "      <td>Burundi</td>\n",
       "      <td>1998</td>\n",
       "      <td>891.699844</td>\n",
       "    </tr>\n",
       "    <tr>\n",
       "      <th>996</th>\n",
       "      <td>Burundi</td>\n",
       "      <td>1997</td>\n",
       "      <td>867.284265</td>\n",
       "    </tr>\n",
       "    <tr>\n",
       "      <th>997</th>\n",
       "      <td>Burundi</td>\n",
       "      <td>1996</td>\n",
       "      <td>880.309412</td>\n",
       "    </tr>\n",
       "    <tr>\n",
       "      <th>998</th>\n",
       "      <td>Burundi</td>\n",
       "      <td>1995</td>\n",
       "      <td>956.490976</td>\n",
       "    </tr>\n",
       "    <tr>\n",
       "      <th>999</th>\n",
       "      <td>Burundi</td>\n",
       "      <td>1994</td>\n",
       "      <td>1103.167298</td>\n",
       "    </tr>\n",
       "    <tr>\n",
       "      <th>1000</th>\n",
       "      <td>Burundi</td>\n",
       "      <td>1993</td>\n",
       "      <td>1153.541309</td>\n",
       "    </tr>\n",
       "    <tr>\n",
       "      <th>1001</th>\n",
       "      <td>Burundi</td>\n",
       "      <td>1992</td>\n",
       "      <td>1190.067435</td>\n",
       "    </tr>\n",
       "    <tr>\n",
       "      <th>1002</th>\n",
       "      <td>Burundi</td>\n",
       "      <td>1991</td>\n",
       "      <td>1209.388158</td>\n",
       "    </tr>\n",
       "    <tr>\n",
       "      <th>1003</th>\n",
       "      <td>Burundi</td>\n",
       "      <td>1990</td>\n",
       "      <td>1175.155086</td>\n",
       "    </tr>\n",
       "  </tbody>\n",
       "</table>\n",
       "</div>"
      ],
      "text/plain": [
       "      Country  Year  GDP_Per_Capita\n",
       "971   Burundi  2022      708.178317\n",
       "972   Burundi  2021      714.066712\n",
       "973   Burundi  2020      711.355263\n",
       "974   Burundi  2019      729.658463\n",
       "975   Burundi  2018      740.448223\n",
       "976   Burundi  2017      750.787616\n",
       "977   Burundi  2016      764.336602\n",
       "978   Burundi  2015      781.579287\n",
       "979   Burundi  2014      831.294839\n",
       "980   Burundi  2013      824.610523\n",
       "981   Burundi  2012      814.320771\n",
       "982   Burundi  2011      807.664958\n",
       "983   Burundi  2010      804.354941\n",
       "984   Burundi  2009      801.803427\n",
       "985   Burundi  2008      812.592170\n",
       "986   Burundi  2007      807.447481\n",
       "987   Burundi  2006      809.696011\n",
       "988   Burundi  2005      796.108713\n",
       "989   Burundi  2004      818.746063\n",
       "990   Burundi  2003      810.552335\n",
       "991   Burundi  2002      846.747295\n",
       "992   Burundi  2001      833.670879\n",
       "993   Burundi  2000      837.348411\n",
       "994   Burundi  1999      862.006680\n",
       "995   Burundi  1998      891.699844\n",
       "996   Burundi  1997      867.284265\n",
       "997   Burundi  1996      880.309412\n",
       "998   Burundi  1995      956.490976\n",
       "999   Burundi  1994     1103.167298\n",
       "1000  Burundi  1993     1153.541309\n",
       "1001  Burundi  1992     1190.067435\n",
       "1002  Burundi  1991     1209.388158\n",
       "1003  Burundi  1990     1175.155086"
      ]
     },
     "execution_count": 55,
     "metadata": {},
     "output_type": "execute_result"
    }
   ],
   "source": [
    "Bur = gdp_df[gdp_df['Country']=='Burundi']\n",
    "Bur"
   ]
  },
  {
   "cell_type": "code",
   "execution_count": 56,
   "id": "1a858083-2017-40ab-8004-4c1108ad323b",
   "metadata": {
    "scrolled": true
   },
   "outputs": [
    {
     "data": {
      "text/plain": [
       "Text(0, 0.5, 'Year')"
      ]
     },
     "execution_count": 56,
     "metadata": {},
     "output_type": "execute_result"
    },
    {
     "data": {
      "image/png": "[encoded data removed]",
      "text/plain": [
       "<Figure size 640x480 with 1 Axes>"
      ]
     },
     "metadata": {},
     "output_type": "display_data"
    }
   ],
   "source": [
    "plt.barh(width=Bur.GDP_Per_Capita, y=Bur.Year)\n",
    "plt.ylim(1989,2023)\n",
    "plt.xlabel('GDP Per Capita')\n",
    "plt.ylabel('Year')"
   ]
  },
  {
   "cell_type": "markdown",
   "id": "37936be2-5322-42c0-92f4-6356b939c59e",
   "metadata": {},
   "source": [
    "### 14. Read in the internet use dataset into a DataFrame named internet_df. You will likely get errors when doing this. Check the arguments for the read_csv function to find ones that can help correct the errors (https://pandas.pydata.org/docs/reference/api/pandas.read_csv.html) Once you are able to read it in, take per a look at the top and bottom few rows to make sure that it has been read in correctly. Also, check the datatypes of the columns."
   ]
  },
  {
   "cell_type": "markdown",
   "id": "cbe839ab-d905-4b87-b9a3-ece1601e77aa",
   "metadata": {},
   "source": [
    "#### Shoutout to Ryan Henderson for the nrows tip"
   ]
  },
  {
   "cell_type": "code",
   "execution_count": 59,
   "id": "0ec1e0fb-7536-4e32-9ed1-716d4c0e825e",
   "metadata": {},
   "outputs": [],
   "source": [
    "internet_df = pd.read_csv('../data/internet_use.csv', nrows=6083)"
   ]
  },
  {
   "cell_type": "code",
   "execution_count": 60,
   "id": "7f36e90c-4954-4dde-8cb9-349db394a34d",
   "metadata": {},
   "outputs": [
    {
     "name": "stdout",
     "output_type": "stream",
     "text": [
      "object\n",
      "int64\n",
      "float64\n"
     ]
    }
   ],
   "source": [
    "print(internet_df['Country or Area'].dtypes)\n",
    "print(internet_df['Year'].dtypes)\n",
    "print(internet_df['Value'].dtypes)"
   ]
  },
  {
   "cell_type": "code",
   "execution_count": 61,
   "id": "95367982-aeb8-4d41-b946-4b219e1df137",
   "metadata": {},
   "outputs": [
    {
     "data": {
      "text/html": [
       "<div>\n",
       "<style scoped>\n",
       "    .dataframe tbody tr th:only-of-type {\n",
       "        vertical-align: middle;\n",
       "    }\n",
       "\n",
       "    .dataframe tbody tr th {\n",
       "        vertical-align: top;\n",
       "    }\n",
       "\n",
       "    .dataframe thead th {\n",
       "        text-align: right;\n",
       "    }\n",
       "</style>\n",
       "<table border=\"1\" class=\"dataframe\">\n",
       "  <thead>\n",
       "    <tr style=\"text-align: right;\">\n",
       "      <th></th>\n",
       "      <th>Country or Area</th>\n",
       "      <th>Year</th>\n",
       "      <th>Value</th>\n",
       "      <th>Value Footnotes</th>\n",
       "    </tr>\n",
       "  </thead>\n",
       "  <tbody>\n",
       "    <tr>\n",
       "      <th>0</th>\n",
       "      <td>Afghanistan</td>\n",
       "      <td>2019</td>\n",
       "      <td>17.600000</td>\n",
       "      <td>1</td>\n",
       "    </tr>\n",
       "    <tr>\n",
       "      <th>1</th>\n",
       "      <td>Afghanistan</td>\n",
       "      <td>2018</td>\n",
       "      <td>16.800000</td>\n",
       "      <td>2</td>\n",
       "    </tr>\n",
       "    <tr>\n",
       "      <th>2</th>\n",
       "      <td>Afghanistan</td>\n",
       "      <td>2017</td>\n",
       "      <td>13.500000</td>\n",
       "      <td>3</td>\n",
       "    </tr>\n",
       "    <tr>\n",
       "      <th>3</th>\n",
       "      <td>Afghanistan</td>\n",
       "      <td>2016</td>\n",
       "      <td>11.000000</td>\n",
       "      <td>4</td>\n",
       "    </tr>\n",
       "    <tr>\n",
       "      <th>4</th>\n",
       "      <td>Afghanistan</td>\n",
       "      <td>2015</td>\n",
       "      <td>8.260000</td>\n",
       "      <td>4</td>\n",
       "    </tr>\n",
       "    <tr>\n",
       "      <th>...</th>\n",
       "      <td>...</td>\n",
       "      <td>...</td>\n",
       "      <td>...</td>\n",
       "      <td>...</td>\n",
       "    </tr>\n",
       "    <tr>\n",
       "      <th>6078</th>\n",
       "      <td>Zimbabwe</td>\n",
       "      <td>1997</td>\n",
       "      <td>0.033080</td>\n",
       "      <td>NaN</td>\n",
       "    </tr>\n",
       "    <tr>\n",
       "      <th>6079</th>\n",
       "      <td>Zimbabwe</td>\n",
       "      <td>1996</td>\n",
       "      <td>0.016790</td>\n",
       "      <td>NaN</td>\n",
       "    </tr>\n",
       "    <tr>\n",
       "      <th>6080</th>\n",
       "      <td>Zimbabwe</td>\n",
       "      <td>1995</td>\n",
       "      <td>0.007684</td>\n",
       "      <td>NaN</td>\n",
       "    </tr>\n",
       "    <tr>\n",
       "      <th>6081</th>\n",
       "      <td>Zimbabwe</td>\n",
       "      <td>1994</td>\n",
       "      <td>0.001739</td>\n",
       "      <td>NaN</td>\n",
       "    </tr>\n",
       "    <tr>\n",
       "      <th>6082</th>\n",
       "      <td>Zimbabwe</td>\n",
       "      <td>1990</td>\n",
       "      <td>0.000000</td>\n",
       "      <td>NaN</td>\n",
       "    </tr>\n",
       "  </tbody>\n",
       "</table>\n",
       "<p>6083 rows × 4 columns</p>\n",
       "</div>"
      ],
      "text/plain": [
       "     Country or Area  Year      Value Value Footnotes\n",
       "0        Afghanistan  2019  17.600000               1\n",
       "1        Afghanistan  2018  16.800000               2\n",
       "2        Afghanistan  2017  13.500000               3\n",
       "3        Afghanistan  2016  11.000000               4\n",
       "4        Afghanistan  2015   8.260000               4\n",
       "...              ...   ...        ...             ...\n",
       "6078        Zimbabwe  1997   0.033080             NaN\n",
       "6079        Zimbabwe  1996   0.016790             NaN\n",
       "6080        Zimbabwe  1995   0.007684             NaN\n",
       "6081        Zimbabwe  1994   0.001739             NaN\n",
       "6082        Zimbabwe  1990   0.000000             NaN\n",
       "\n",
       "[6083 rows x 4 columns]"
      ]
     },
     "execution_count": 61,
     "metadata": {},
     "output_type": "execute_result"
    }
   ],
   "source": [
    "internet_df"
   ]
  },
  {
   "cell_type": "markdown",
   "id": "7f73d726-1fd2-4dfd-b6dd-6e13b241ed82",
   "metadata": {},
   "source": [
    "### 15. Drop the Value Footnotes column and rename the remaining three to 'Country', 'Year', and 'Internet_Users_Pct'."
   ]
  },
  {
   "cell_type": "code",
   "execution_count": 63,
   "id": "9c7a108d-e71d-4638-acb3-12cbe740231a",
   "metadata": {},
   "outputs": [],
   "source": [
    "internet_df = internet_df.rename(columns={'Country or Area':'Country','Value':'Internet_Users_Pct'})"
   ]
  },
  {
   "cell_type": "code",
   "execution_count": 64,
   "id": "6791e549-00b8-4597-8856-b266bc253a49",
   "metadata": {},
   "outputs": [],
   "source": [
    "internet_df = internet_df.drop('Value Footnotes', axis=1)"
   ]
  },
  {
   "cell_type": "markdown",
   "id": "952c7fb8-e1d3-4ab4-bba1-cec66cc515f6",
   "metadata": {},
   "source": [
    "### 16. Look at the number of observations in this dataset per year. What do you notice?"
   ]
  },
  {
   "cell_type": "code",
   "execution_count": 66,
   "id": "35e94de0-dba7-46bb-8573-64bd313c50c3",
   "metadata": {},
   "outputs": [],
   "source": [
    "obv_per_year = internet_df.groupby('Year')['Country'].count().sort_index()"
   ]
  },
  {
   "cell_type": "code",
   "execution_count": 67,
   "id": "dd96d191-5300-45b7-8225-1ef34045df3f",
   "metadata": {},
   "outputs": [
    {
     "data": {
      "text/plain": [
       "Year\n",
       "1990    226\n",
       "1991     39\n",
       "1992     50\n",
       "1993     66\n",
       "1994     92\n",
       "1995    141\n",
       "1996    177\n",
       "1997    188\n",
       "1998    195\n",
       "1999    207\n",
       "2000    210\n",
       "2001    212\n",
       "2002    214\n",
       "2003    208\n",
       "2004    210\n",
       "2005    212\n",
       "2006    212\n",
       "2007    217\n",
       "2008    214\n",
       "2009    214\n",
       "2010    209\n",
       "2011    214\n",
       "2012    209\n",
       "2013    203\n",
       "2014    204\n",
       "2015    203\n",
       "2016    206\n",
       "2017    205\n",
       "2018    174\n",
       "2019    185\n",
       "2020    186\n",
       "2021    186\n",
       "2022    184\n",
       "2023     11\n",
       "Name: Country, dtype: int64"
      ]
     },
     "execution_count": 67,
     "metadata": {},
     "output_type": "execute_result"
    }
   ],
   "source": [
    "obv_per_year"
   ]
  },
  {
   "cell_type": "code",
   "execution_count": 68,
   "id": "4e47a718-c463-4d5e-9231-5ae77aefc699",
   "metadata": {},
   "outputs": [],
   "source": [
    "#2023 seems to be very light, perhaps the cut off was early in the year; also the numbers for 1991-1994 seem to be very low as well"
   ]
  },
  {
   "cell_type": "markdown",
   "id": "526953e1-8811-41bf-a297-c4ab5bedc3e7",
   "metadata": {},
   "source": [
    "### 17. What is the first year to have a non-zero internet users percentage value?"
   ]
  },
  {
   "cell_type": "code",
   "execution_count": 70,
   "id": "0954bd3e-1780-4678-89ee-808670e41cdf",
   "metadata": {},
   "outputs": [],
   "source": [
    "nziu = internet_df[internet_df['Internet_Users_Pct']>0]"
   ]
  },
  {
   "cell_type": "code",
   "execution_count": 71,
   "id": "a6ea3e65-074d-40db-ac21-dd152b01b834",
   "metadata": {},
   "outputs": [
    {
     "data": {
      "text/html": [
       "<div>\n",
       "<style scoped>\n",
       "    .dataframe tbody tr th:only-of-type {\n",
       "        vertical-align: middle;\n",
       "    }\n",
       "\n",
       "    .dataframe tbody tr th {\n",
       "        vertical-align: top;\n",
       "    }\n",
       "\n",
       "    .dataframe thead th {\n",
       "        text-align: right;\n",
       "    }\n",
       "</style>\n",
       "<table border=\"1\" class=\"dataframe\">\n",
       "  <thead>\n",
       "    <tr style=\"text-align: right;\">\n",
       "      <th></th>\n",
       "      <th>Country</th>\n",
       "      <th>Year</th>\n",
       "      <th>Internet_Users_Pct</th>\n",
       "    </tr>\n",
       "  </thead>\n",
       "  <tbody>\n",
       "    <tr>\n",
       "      <th>543</th>\n",
       "      <td>Belgium</td>\n",
       "      <td>1990</td>\n",
       "      <td>0.001007</td>\n",
       "    </tr>\n",
       "    <tr>\n",
       "      <th>5150</th>\n",
       "      <td>Spain</td>\n",
       "      <td>1990</td>\n",
       "      <td>0.012874</td>\n",
       "    </tr>\n",
       "    <tr>\n",
       "      <th>2829</th>\n",
       "      <td>Italy</td>\n",
       "      <td>1990</td>\n",
       "      <td>0.017545</td>\n",
       "    </tr>\n",
       "    <tr>\n",
       "      <th>2892</th>\n",
       "      <td>Japan</td>\n",
       "      <td>1990</td>\n",
       "      <td>0.020294</td>\n",
       "    </tr>\n",
       "    <tr>\n",
       "      <th>3054</th>\n",
       "      <td>Korea (Republic  of)</td>\n",
       "      <td>1990</td>\n",
       "      <td>0.023265</td>\n",
       "    </tr>\n",
       "    <tr>\n",
       "      <th>...</th>\n",
       "      <td>...</td>\n",
       "      <td>...</td>\n",
       "      <td>...</td>\n",
       "    </tr>\n",
       "    <tr>\n",
       "      <th>2159</th>\n",
       "      <td>Germany</td>\n",
       "      <td>2023</td>\n",
       "      <td>92.476400</td>\n",
       "    </tr>\n",
       "    <tr>\n",
       "      <th>5266</th>\n",
       "      <td>Sweden</td>\n",
       "      <td>2023</td>\n",
       "      <td>95.703300</td>\n",
       "    </tr>\n",
       "    <tr>\n",
       "      <th>1537</th>\n",
       "      <td>Denmark</td>\n",
       "      <td>2023</td>\n",
       "      <td>98.775600</td>\n",
       "    </tr>\n",
       "    <tr>\n",
       "      <th>3323</th>\n",
       "      <td>Luxembourg</td>\n",
       "      <td>2023</td>\n",
       "      <td>99.347900</td>\n",
       "    </tr>\n",
       "    <tr>\n",
       "      <th>3057</th>\n",
       "      <td>Kuwait</td>\n",
       "      <td>2023</td>\n",
       "      <td>99.747300</td>\n",
       "    </tr>\n",
       "  </tbody>\n",
       "</table>\n",
       "<p>5803 rows × 3 columns</p>\n",
       "</div>"
      ],
      "text/plain": [
       "                   Country  Year  Internet_Users_Pct\n",
       "543                Belgium  1990            0.001007\n",
       "5150                 Spain  1990            0.012874\n",
       "2829                 Italy  1990            0.017545\n",
       "2892                 Japan  1990            0.020294\n",
       "3054  Korea (Republic  of)  1990            0.023265\n",
       "...                    ...   ...                 ...\n",
       "2159               Germany  2023           92.476400\n",
       "5266                Sweden  2023           95.703300\n",
       "1537               Denmark  2023           98.775600\n",
       "3323            Luxembourg  2023           99.347900\n",
       "3057                Kuwait  2023           99.747300\n",
       "\n",
       "[5803 rows x 3 columns]"
      ]
     },
     "execution_count": 71,
     "metadata": {},
     "output_type": "execute_result"
    }
   ],
   "source": [
    "nziu.sort_values(['Year', 'Internet_Users_Pct'])"
   ]
  },
  {
   "cell_type": "code",
   "execution_count": 72,
   "id": "596cf2f9-c463-4984-ba2a-4fed533cee3d",
   "metadata": {},
   "outputs": [],
   "source": [
    "#It looks like 1990 was the first year to have a non-zero internet users percentage value."
   ]
  },
  {
   "cell_type": "markdown",
   "id": "0dbef5bb-0c35-407e-a0d3-d0faf6435413",
   "metadata": {},
   "source": [
    "### 18. How does the distribution of internet users percent differ for 2000 and 2014?"
   ]
  },
  {
   "cell_type": "code",
   "execution_count": 74,
   "id": "7958cda9-4f34-4397-8ced-abfd408aa4c6",
   "metadata": {},
   "outputs": [],
   "source": [
    "years18 = [2000, 2014]"
   ]
  },
  {
   "cell_type": "code",
   "execution_count": 75,
   "id": "e3bbcb49-500d-45e8-b35b-44a37d83718a",
   "metadata": {},
   "outputs": [
    {
     "data": {
      "text/plain": [
       "Year\n",
       "2000     9.332385\n",
       "2014    45.604925\n",
       "Name: Internet_Users_Pct, dtype: float64"
      ]
     },
     "execution_count": 75,
     "metadata": {},
     "output_type": "execute_result"
    }
   ],
   "source": [
    "y18_0014 = internet_df[internet_df['Year'].isin(years18)]\n",
    "avg_0014 = y18_0014.groupby('Year')['Internet_Users_Pct'].mean()\n",
    "avg_0014"
   ]
  },
  {
   "cell_type": "markdown",
   "id": "d694d90c-ef4e-41ff-98b0-d90829a39c44",
   "metadata": {},
   "source": [
    "### 19. For how many countries was the percentage of internet users below 5% in 2014?"
   ]
  },
  {
   "cell_type": "code",
   "execution_count": 77,
   "id": "9ba3ebeb-08b8-4f9b-a677-899e1b42edc2",
   "metadata": {},
   "outputs": [],
   "source": [
    "less_than_5 = internet_df[internet_df['Internet_Users_Pct']<5]"
   ]
  },
  {
   "cell_type": "code",
   "execution_count": 78,
   "id": "ff5abddc-e97c-43b5-abb8-ff4b8e3716aa",
   "metadata": {},
   "outputs": [],
   "source": [
    "lt5_2014 = less_than_5[less_than_5['Year']==2014]"
   ]
  },
  {
   "cell_type": "code",
   "execution_count": 79,
   "id": "97a1f7a3-fd05-4643-b12c-9491e2168cd3",
   "metadata": {},
   "outputs": [
    {
     "data": {
      "text/html": [
       "<div>\n",
       "<style scoped>\n",
       "    .dataframe tbody tr th:only-of-type {\n",
       "        vertical-align: middle;\n",
       "    }\n",
       "\n",
       "    .dataframe tbody tr th {\n",
       "        vertical-align: top;\n",
       "    }\n",
       "\n",
       "    .dataframe thead th {\n",
       "        text-align: right;\n",
       "    }\n",
       "</style>\n",
       "<table border=\"1\" class=\"dataframe\">\n",
       "  <thead>\n",
       "    <tr style=\"text-align: right;\">\n",
       "      <th></th>\n",
       "      <th>Country</th>\n",
       "      <th>Year</th>\n",
       "      <th>Internet_Users_Pct</th>\n",
       "    </tr>\n",
       "  </thead>\n",
       "  <tbody>\n",
       "    <tr>\n",
       "      <th>873</th>\n",
       "      <td>Burundi</td>\n",
       "      <td>2014</td>\n",
       "      <td>1.04239</td>\n",
       "    </tr>\n",
       "    <tr>\n",
       "      <th>1033</th>\n",
       "      <td>Central African Republic</td>\n",
       "      <td>2014</td>\n",
       "      <td>2.70000</td>\n",
       "    </tr>\n",
       "    <tr>\n",
       "      <th>1061</th>\n",
       "      <td>Chad</td>\n",
       "      <td>2014</td>\n",
       "      <td>2.90000</td>\n",
       "    </tr>\n",
       "    <tr>\n",
       "      <th>1517</th>\n",
       "      <td>Democratic Republic of the Congo</td>\n",
       "      <td>2014</td>\n",
       "      <td>3.00000</td>\n",
       "    </tr>\n",
       "    <tr>\n",
       "      <th>1782</th>\n",
       "      <td>Eritrea</td>\n",
       "      <td>2014</td>\n",
       "      <td>0.99000</td>\n",
       "    </tr>\n",
       "    <tr>\n",
       "      <th>2451</th>\n",
       "      <td>Guinea-Bissau</td>\n",
       "      <td>2014</td>\n",
       "      <td>3.32000</td>\n",
       "    </tr>\n",
       "    <tr>\n",
       "      <th>3364</th>\n",
       "      <td>Madagascar</td>\n",
       "      <td>2014</td>\n",
       "      <td>3.70000</td>\n",
       "    </tr>\n",
       "    <tr>\n",
       "      <th>4073</th>\n",
       "      <td>Niger</td>\n",
       "      <td>2014</td>\n",
       "      <td>1.24868</td>\n",
       "    </tr>\n",
       "    <tr>\n",
       "      <th>5055</th>\n",
       "      <td>Somalia</td>\n",
       "      <td>2014</td>\n",
       "      <td>1.63000</td>\n",
       "    </tr>\n",
       "    <tr>\n",
       "      <th>5116</th>\n",
       "      <td>South Sudan</td>\n",
       "      <td>2014</td>\n",
       "      <td>2.60000</td>\n",
       "    </tr>\n",
       "  </tbody>\n",
       "</table>\n",
       "</div>"
      ],
      "text/plain": [
       "                               Country  Year  Internet_Users_Pct\n",
       "873                            Burundi  2014             1.04239\n",
       "1033          Central African Republic  2014             2.70000\n",
       "1061                              Chad  2014             2.90000\n",
       "1517  Democratic Republic of the Congo  2014             3.00000\n",
       "1782                           Eritrea  2014             0.99000\n",
       "2451                     Guinea-Bissau  2014             3.32000\n",
       "3364                        Madagascar  2014             3.70000\n",
       "4073                             Niger  2014             1.24868\n",
       "5055                           Somalia  2014             1.63000\n",
       "5116                       South Sudan  2014             2.60000"
      ]
     },
     "execution_count": 79,
     "metadata": {},
     "output_type": "execute_result"
    }
   ],
   "source": [
    "lt5_2014"
   ]
  },
  {
   "cell_type": "code",
   "execution_count": 80,
   "id": "354ccbd5-5f82-4be5-8edb-bcff8e10280c",
   "metadata": {},
   "outputs": [
    {
     "data": {
      "text/plain": [
       "10"
      ]
     },
     "execution_count": 80,
     "metadata": {},
     "output_type": "execute_result"
    }
   ],
   "source": [
    "lt5_2014['Country'].nunique()"
   ]
  },
  {
   "cell_type": "markdown",
   "id": "0c11ad24-2080-48af-99b6-398fbe5ce80b",
   "metadata": {},
   "source": [
    "### 20. Merge the two DataFrames to one. Do this in a way that keeps all rows from each of the two DataFrames. Call the new DataFrame gdp_and_internet_use. Look at the first and last few rows to confirm that it merged correctly."
   ]
  },
  {
   "cell_type": "code",
   "execution_count": 82,
   "id": "6ee62642-f8fa-47fd-b036-6b95caa2b0e7",
   "metadata": {},
   "outputs": [
    {
     "data": {
      "text/plain": [
       "Country            object\n",
       "Year                int64\n",
       "GDP_Per_Capita    float64\n",
       "dtype: object"
      ]
     },
     "execution_count": 82,
     "metadata": {},
     "output_type": "execute_result"
    }
   ],
   "source": [
    "gdp_df.dtypes"
   ]
  },
  {
   "cell_type": "code",
   "execution_count": 83,
   "id": "0b6b5590-4718-4450-a84a-4896a95259d4",
   "metadata": {},
   "outputs": [
    {
     "data": {
      "text/plain": [
       "Country                object\n",
       "Year                    int64\n",
       "Internet_Users_Pct    float64\n",
       "dtype: object"
      ]
     },
     "execution_count": 83,
     "metadata": {},
     "output_type": "execute_result"
    }
   ],
   "source": [
    "internet_df.dtypes"
   ]
  },
  {
   "cell_type": "markdown",
   "id": "f2052f69-fadb-4d71-a87a-fe1f113ce2e8",
   "metadata": {},
   "source": [
    "#### Shoutout to Charlie Napier for the help on this next part"
   ]
  },
  {
   "cell_type": "code",
   "execution_count": 85,
   "id": "92f2ff31-e803-44e3-9387-6be0a9844b9a",
   "metadata": {},
   "outputs": [],
   "source": [
    "gdp_and_internet_use = pd.merge(gdp_df, internet_df, on=['Country','Year'], how='outer')"
   ]
  },
  {
   "cell_type": "code",
   "execution_count": 86,
   "id": "44af9e8f-e80a-45ae-ae32-0d184d1160bb",
   "metadata": {},
   "outputs": [
    {
     "data": {
      "text/html": [
       "<div>\n",
       "<style scoped>\n",
       "    .dataframe tbody tr th:only-of-type {\n",
       "        vertical-align: middle;\n",
       "    }\n",
       "\n",
       "    .dataframe tbody tr th {\n",
       "        vertical-align: top;\n",
       "    }\n",
       "\n",
       "    .dataframe thead th {\n",
       "        text-align: right;\n",
       "    }\n",
       "</style>\n",
       "<table border=\"1\" class=\"dataframe\">\n",
       "  <thead>\n",
       "    <tr style=\"text-align: right;\">\n",
       "      <th></th>\n",
       "      <th>Country</th>\n",
       "      <th>Year</th>\n",
       "      <th>GDP_Per_Capita</th>\n",
       "      <th>Internet_Users_Pct</th>\n",
       "    </tr>\n",
       "  </thead>\n",
       "  <tbody>\n",
       "    <tr>\n",
       "      <th>0</th>\n",
       "      <td>Afghanistan</td>\n",
       "      <td>1990</td>\n",
       "      <td>NaN</td>\n",
       "      <td>0.000000</td>\n",
       "    </tr>\n",
       "    <tr>\n",
       "      <th>1</th>\n",
       "      <td>Afghanistan</td>\n",
       "      <td>2001</td>\n",
       "      <td>NaN</td>\n",
       "      <td>0.004723</td>\n",
       "    </tr>\n",
       "    <tr>\n",
       "      <th>2</th>\n",
       "      <td>Afghanistan</td>\n",
       "      <td>2002</td>\n",
       "      <td>1280.463171</td>\n",
       "      <td>0.004561</td>\n",
       "    </tr>\n",
       "    <tr>\n",
       "      <th>3</th>\n",
       "      <td>Afghanistan</td>\n",
       "      <td>2003</td>\n",
       "      <td>1292.333437</td>\n",
       "      <td>0.087891</td>\n",
       "    </tr>\n",
       "    <tr>\n",
       "      <th>4</th>\n",
       "      <td>Afghanistan</td>\n",
       "      <td>2004</td>\n",
       "      <td>1260.060581</td>\n",
       "      <td>0.105809</td>\n",
       "    </tr>\n",
       "    <tr>\n",
       "      <th>...</th>\n",
       "      <td>...</td>\n",
       "      <td>...</td>\n",
       "      <td>...</td>\n",
       "      <td>...</td>\n",
       "    </tr>\n",
       "    <tr>\n",
       "      <th>9107</th>\n",
       "      <td>Zimbabwe</td>\n",
       "      <td>2018</td>\n",
       "      <td>2399.621551</td>\n",
       "      <td>25.000000</td>\n",
       "    </tr>\n",
       "    <tr>\n",
       "      <th>9108</th>\n",
       "      <td>Zimbabwe</td>\n",
       "      <td>2019</td>\n",
       "      <td>2203.396810</td>\n",
       "      <td>26.588300</td>\n",
       "    </tr>\n",
       "    <tr>\n",
       "      <th>9109</th>\n",
       "      <td>Zimbabwe</td>\n",
       "      <td>2020</td>\n",
       "      <td>1990.319419</td>\n",
       "      <td>29.298600</td>\n",
       "    </tr>\n",
       "    <tr>\n",
       "      <th>9110</th>\n",
       "      <td>Zimbabwe</td>\n",
       "      <td>2021</td>\n",
       "      <td>2115.144555</td>\n",
       "      <td>32.461600</td>\n",
       "    </tr>\n",
       "    <tr>\n",
       "      <th>9111</th>\n",
       "      <td>Zimbabwe</td>\n",
       "      <td>2022</td>\n",
       "      <td>2143.237574</td>\n",
       "      <td>32.561500</td>\n",
       "    </tr>\n",
       "  </tbody>\n",
       "</table>\n",
       "<p>9112 rows × 4 columns</p>\n",
       "</div>"
      ],
      "text/plain": [
       "          Country  Year  GDP_Per_Capita  Internet_Users_Pct\n",
       "0     Afghanistan  1990             NaN            0.000000\n",
       "1     Afghanistan  2001             NaN            0.004723\n",
       "2     Afghanistan  2002     1280.463171            0.004561\n",
       "3     Afghanistan  2003     1292.333437            0.087891\n",
       "4     Afghanistan  2004     1260.060581            0.105809\n",
       "...           ...   ...             ...                 ...\n",
       "9107     Zimbabwe  2018     2399.621551           25.000000\n",
       "9108     Zimbabwe  2019     2203.396810           26.588300\n",
       "9109     Zimbabwe  2020     1990.319419           29.298600\n",
       "9110     Zimbabwe  2021     2115.144555           32.461600\n",
       "9111     Zimbabwe  2022     2143.237574           32.561500\n",
       "\n",
       "[9112 rows x 4 columns]"
      ]
     },
     "execution_count": 86,
     "metadata": {},
     "output_type": "execute_result"
    }
   ],
   "source": [
    "gdp_and_internet_use"
   ]
  },
  {
   "cell_type": "markdown",
   "id": "0ba4aa3e-8d0e-4c21-a56b-2a5d6be37403",
   "metadata": {},
   "source": [
    "### 21. Find the three countries with the highest internet users percentage in 2014. Use a seaborn FacetGrid (https://seaborn.pydata.org/generated/seaborn.FacetGrid.html) to compare how the GDP per capita has changed over time for these three countries. What do you notice?"
   ]
  },
  {
   "cell_type": "code",
   "execution_count": 88,
   "id": "54e7b226-dde8-4f7e-a12b-1765ab12c1a2",
   "metadata": {},
   "outputs": [],
   "source": [
    "gid_2014 = gdp_and_internet_use[gdp_and_internet_use['Year']==2014]"
   ]
  },
  {
   "cell_type": "code",
   "execution_count": 89,
   "id": "555ad064-d3f9-4474-b29b-8dd75078a6cc",
   "metadata": {},
   "outputs": [],
   "source": [
    "top3_gid_2014 = gid_2014.sort_values('Internet_Users_Pct', ascending=False).head(3)"
   ]
  },
  {
   "cell_type": "code",
   "execution_count": 90,
   "id": "a6279b71-0219-468a-bfe9-8bf3de1b8974",
   "metadata": {},
   "outputs": [
    {
     "data": {
      "text/html": [
       "<div>\n",
       "<style scoped>\n",
       "    .dataframe tbody tr th:only-of-type {\n",
       "        vertical-align: middle;\n",
       "    }\n",
       "\n",
       "    .dataframe tbody tr th {\n",
       "        vertical-align: top;\n",
       "    }\n",
       "\n",
       "    .dataframe thead th {\n",
       "        text-align: right;\n",
       "    }\n",
       "</style>\n",
       "<table border=\"1\" class=\"dataframe\">\n",
       "  <thead>\n",
       "    <tr style=\"text-align: right;\">\n",
       "      <th></th>\n",
       "      <th>Country</th>\n",
       "      <th>Year</th>\n",
       "      <th>GDP_Per_Capita</th>\n",
       "      <th>Internet_Users_Pct</th>\n",
       "    </tr>\n",
       "  </thead>\n",
       "  <tbody>\n",
       "    <tr>\n",
       "      <th>3820</th>\n",
       "      <td>Iceland</td>\n",
       "      <td>2014</td>\n",
       "      <td>50450.741612</td>\n",
       "      <td>98.158</td>\n",
       "    </tr>\n",
       "    <tr>\n",
       "      <th>2780</th>\n",
       "      <td>Falkland (Malvinas) Islands</td>\n",
       "      <td>2014</td>\n",
       "      <td>NaN</td>\n",
       "      <td>97.600</td>\n",
       "    </tr>\n",
       "    <tr>\n",
       "      <th>794</th>\n",
       "      <td>Bermuda</td>\n",
       "      <td>2014</td>\n",
       "      <td>77361.104881</td>\n",
       "      <td>96.800</td>\n",
       "    </tr>\n",
       "  </tbody>\n",
       "</table>\n",
       "</div>"
      ],
      "text/plain": [
       "                          Country  Year  GDP_Per_Capita  Internet_Users_Pct\n",
       "3820                      Iceland  2014    50450.741612              98.158\n",
       "2780  Falkland (Malvinas) Islands  2014             NaN              97.600\n",
       "794                       Bermuda  2014    77361.104881              96.800"
      ]
     },
     "execution_count": 90,
     "metadata": {},
     "output_type": "execute_result"
    }
   ],
   "source": [
    "top3_gid_2014"
   ]
  },
  {
   "cell_type": "code",
   "execution_count": 91,
   "id": "e282c800-8a15-48c8-b21c-a4c5ea188df5",
   "metadata": {},
   "outputs": [
    {
     "data": {
      "text/plain": [
       "<seaborn.axisgrid.FacetGrid at 0x1f2b7b32720>"
      ]
     },
     "execution_count": 91,
     "metadata": {},
     "output_type": "execute_result"
    },
    {
     "data": {
      "image/png": "[encoded data removed]",
      "text/plain": [
       "<Figure size 900x300 with 3 Axes>"
      ]
     },
     "metadata": {},
     "output_type": "display_data"
    }
   ],
   "source": [
    "t3g2 = gdp_and_internet_use[gdp_and_internet_use['Country'].isin(['Iceland','Falkland (Malvinas) Islands','Bermuda'])]\n",
    "\n",
    "t3g2_map = sns.FacetGrid(t3g2, col='Country')\n",
    "t3g2_line = t3g2_map.map_dataframe(sns.lineplot, x='Year', y='GDP_Per_Capita')\n",
    "t3g2_line"
   ]
  },
  {
   "cell_type": "markdown",
   "id": "0a494b47-9f5b-4658-8d7e-e04ba20aceff",
   "metadata": {},
   "source": [
    "### 22. Subset gdp_and_internet_use to just the year 2014. Save this as a new dataframe named gdp_and_internet_use_2014."
   ]
  },
  {
   "cell_type": "code",
   "execution_count": 93,
   "id": "3830a032-da48-4a7a-ba44-5d4744c41632",
   "metadata": {},
   "outputs": [],
   "source": [
    "gdp_and_internet_use_2014 = gdp_and_internet_use[gdp_and_internet_use['Year']==2014]"
   ]
  },
  {
   "cell_type": "markdown",
   "id": "5b4f985a-2a12-4d42-8a28-e6ba7175e0ae",
   "metadata": {},
   "source": [
    "### 23.Create a plot which compares Internet Users Percentage and GDP per Capita for the year 2014. What do you notice from this plot? If you see any unusual points, investigate them."
   ]
  },
  {
   "cell_type": "code",
   "execution_count": 95,
   "id": "5e20e0e7-ceca-4ea6-aa46-3c6a73869cfc",
   "metadata": {},
   "outputs": [],
   "source": [
    "IUP_GDP_2014 = gdp_and_internet_use[gdp_and_internet_use['Year']==2014]"
   ]
  },
  {
   "cell_type": "code",
   "execution_count": 96,
   "id": "e38157df-33d1-4f29-b72c-15f86ddb8c05",
   "metadata": {},
   "outputs": [
    {
     "data": {
      "text/plain": [
       "<Axes: xlabel='GDP_Per_Capita', ylabel='Internet_Users_Pct'>"
      ]
     },
     "execution_count": 96,
     "metadata": {},
     "output_type": "execute_result"
    },
    {
     "data": {
      "image/png": "[encoded data removed]",
      "text/plain": [
       "<Figure size 640x480 with 1 Axes>"
      ]
     },
     "metadata": {},
     "output_type": "display_data"
    }
   ],
   "source": [
    "sns.scatterplot(IUP_GDP_2014, x='GDP_Per_Capita', y='Internet_Users_Pct')"
   ]
  },
  {
   "cell_type": "markdown",
   "id": "998dc105-03ad-4633-8288-9d7e54e9de14",
   "metadata": {},
   "source": [
    "### 24. Stretch Question: Use the qcut function from pandas (https://pandas.pydata.org/docs/reference/api/pandas.qcut.html) to divide countries in gdp_per_capita_2014 into three groups based on their GDP per capita values. Label these groups as \"Low\", \"Medium\", and \"High\". Put these labels in a new column, named \"GDP_group\"."
   ]
  },
  {
   "cell_type": "code",
   "execution_count": 98,
   "id": "24920822-e217-4357-83b8-00642d663035",
   "metadata": {},
   "outputs": [],
   "source": [
    "gdp_per_capita_2014 = gdp_df[gdp_df['Year']==2014].copy()"
   ]
  },
  {
   "cell_type": "code",
   "execution_count": 178,
   "id": "7055fa40-0ba3-4188-9083-2c1047d203d7",
   "metadata": {},
   "outputs": [
    {
     "data": {
      "text/html": [
       "<div>\n",
       "<style scoped>\n",
       "    .dataframe tbody tr th:only-of-type {\n",
       "        vertical-align: middle;\n",
       "    }\n",
       "\n",
       "    .dataframe tbody tr th {\n",
       "        vertical-align: top;\n",
       "    }\n",
       "\n",
       "    .dataframe thead th {\n",
       "        text-align: right;\n",
       "    }\n",
       "</style>\n",
       "<table border=\"1\" class=\"dataframe\">\n",
       "  <thead>\n",
       "    <tr style=\"text-align: right;\">\n",
       "      <th></th>\n",
       "      <th>Country</th>\n",
       "      <th>Year</th>\n",
       "      <th>GDP_Per_Capita</th>\n",
       "      <th>GDP_group</th>\n",
       "    </tr>\n",
       "  </thead>\n",
       "  <tbody>\n",
       "    <tr>\n",
       "      <th>7</th>\n",
       "      <td>Afghanistan</td>\n",
       "      <td>2014</td>\n",
       "      <td>2144.449634</td>\n",
       "      <td>Low</td>\n",
       "    </tr>\n",
       "    <tr>\n",
       "      <th>28</th>\n",
       "      <td>Africa Eastern and Southern</td>\n",
       "      <td>2014</td>\n",
       "      <td>3642.875373</td>\n",
       "      <td>Low</td>\n",
       "    </tr>\n",
       "    <tr>\n",
       "      <th>61</th>\n",
       "      <td>Africa Western and Central</td>\n",
       "      <td>2014</td>\n",
       "      <td>4146.994622</td>\n",
       "      <td>Low</td>\n",
       "    </tr>\n",
       "    <tr>\n",
       "      <th>94</th>\n",
       "      <td>Albania</td>\n",
       "      <td>2014</td>\n",
       "      <td>11586.817446</td>\n",
       "      <td>Medium</td>\n",
       "    </tr>\n",
       "    <tr>\n",
       "      <th>127</th>\n",
       "      <td>Algeria</td>\n",
       "      <td>2014</td>\n",
       "      <td>11561.259795</td>\n",
       "      <td>Medium</td>\n",
       "    </tr>\n",
       "    <tr>\n",
       "      <th>...</th>\n",
       "      <td>...</td>\n",
       "      <td>...</td>\n",
       "      <td>...</td>\n",
       "      <td>...</td>\n",
       "    </tr>\n",
       "    <tr>\n",
       "      <th>7509</th>\n",
       "      <td>Viet Nam</td>\n",
       "      <td>2014</td>\n",
       "      <td>7641.909252</td>\n",
       "      <td>Medium</td>\n",
       "    </tr>\n",
       "    <tr>\n",
       "      <th>7542</th>\n",
       "      <td>West Bank and Gaza</td>\n",
       "      <td>2014</td>\n",
       "      <td>5967.073437</td>\n",
       "      <td>Low</td>\n",
       "    </tr>\n",
       "    <tr>\n",
       "      <th>7571</th>\n",
       "      <td>World</td>\n",
       "      <td>2014</td>\n",
       "      <td>15120.730322</td>\n",
       "      <td>Medium</td>\n",
       "    </tr>\n",
       "    <tr>\n",
       "      <th>7604</th>\n",
       "      <td>Zambia</td>\n",
       "      <td>2014</td>\n",
       "      <td>3375.941270</td>\n",
       "      <td>Low</td>\n",
       "    </tr>\n",
       "    <tr>\n",
       "      <th>7637</th>\n",
       "      <td>Zimbabwe</td>\n",
       "      <td>2014</td>\n",
       "      <td>2316.954536</td>\n",
       "      <td>Low</td>\n",
       "    </tr>\n",
       "  </tbody>\n",
       "</table>\n",
       "<p>242 rows × 4 columns</p>\n",
       "</div>"
      ],
      "text/plain": [
       "                          Country  Year  GDP_Per_Capita GDP_group\n",
       "7                     Afghanistan  2014     2144.449634       Low\n",
       "28    Africa Eastern and Southern  2014     3642.875373       Low\n",
       "61     Africa Western and Central  2014     4146.994622       Low\n",
       "94                        Albania  2014    11586.817446    Medium\n",
       "127                       Algeria  2014    11561.259795    Medium\n",
       "...                           ...   ...             ...       ...\n",
       "7509                     Viet Nam  2014     7641.909252    Medium\n",
       "7542           West Bank and Gaza  2014     5967.073437       Low\n",
       "7571                        World  2014    15120.730322    Medium\n",
       "7604                       Zambia  2014     3375.941270       Low\n",
       "7637                     Zimbabwe  2014     2316.954536       Low\n",
       "\n",
       "[242 rows x 4 columns]"
      ]
     },
     "execution_count": 178,
     "metadata": {},
     "output_type": "execute_result"
    }
   ],
   "source": [
    "gdp_per_capita_2014['GDP_group'] = pd.qcut(gdp_per_capita_2014['GDP_Per_Capita'], 3, labels=['Low','Medium','High'])\n",
    "gdp_per_capita_2014"
   ]
  },
  {
   "cell_type": "markdown",
   "id": "7d1ddca1-de29-494e-ac59-e64406ea81be",
   "metadata": {},
   "source": [
    "### 25. Stretch Question: How does the median internet users percentage compare for the three gdp groups?"
   ]
  },
  {
   "cell_type": "code",
   "execution_count": 180,
   "id": "a5fafb55-b326-4879-bc2c-bc8f48175bcb",
   "metadata": {},
   "outputs": [
    {
     "name": "stderr",
     "output_type": "stream",
     "text": [
      "C:\\Users\\Jesse\\AppData\\Local\\Temp\\ipykernel_4236\\469454832.py:1: FutureWarning: The default of observed=False is deprecated and will be changed to True in a future version of pandas. Pass observed=False to retain current behavior or observed=True to adopt the future default and silence this warning.\n",
      "  gdp_per_capita_2014.groupby('GDP_group').median()\n"
     ]
    },
    {
     "ename": "TypeError",
     "evalue": "agg function failed [how->median,dtype->object]",
     "output_type": "error",
     "traceback": [
      "\u001b[1;31m---------------------------------------------------------------------------\u001b[0m",
      "\u001b[1;31mTypeError\u001b[0m                                 Traceback (most recent call last)",
      "File \u001b[1;32m~\\anaconda3\\Lib\\site-packages\\pandas\\core\\groupby\\groupby.py:1942\u001b[0m, in \u001b[0;36mGroupBy._agg_py_fallback\u001b[1;34m(self, how, values, ndim, alt)\u001b[0m\n\u001b[0;32m   1941\u001b[0m \u001b[38;5;28;01mtry\u001b[39;00m:\n\u001b[1;32m-> 1942\u001b[0m     res_values \u001b[38;5;241m=\u001b[39m \u001b[38;5;28mself\u001b[39m\u001b[38;5;241m.\u001b[39m_grouper\u001b[38;5;241m.\u001b[39magg_series(ser, alt, preserve_dtype\u001b[38;5;241m=\u001b[39m\u001b[38;5;28;01mTrue\u001b[39;00m)\n\u001b[0;32m   1943\u001b[0m \u001b[38;5;28;01mexcept\u001b[39;00m \u001b[38;5;167;01mException\u001b[39;00m \u001b[38;5;28;01mas\u001b[39;00m err:\n",
      "File \u001b[1;32m~\\anaconda3\\Lib\\site-packages\\pandas\\core\\groupby\\ops.py:864\u001b[0m, in \u001b[0;36mBaseGrouper.agg_series\u001b[1;34m(self, obj, func, preserve_dtype)\u001b[0m\n\u001b[0;32m    862\u001b[0m     preserve_dtype \u001b[38;5;241m=\u001b[39m \u001b[38;5;28;01mTrue\u001b[39;00m\n\u001b[1;32m--> 864\u001b[0m result \u001b[38;5;241m=\u001b[39m \u001b[38;5;28mself\u001b[39m\u001b[38;5;241m.\u001b[39m_aggregate_series_pure_python(obj, func)\n\u001b[0;32m    866\u001b[0m npvalues \u001b[38;5;241m=\u001b[39m lib\u001b[38;5;241m.\u001b[39mmaybe_convert_objects(result, try_float\u001b[38;5;241m=\u001b[39m\u001b[38;5;28;01mFalse\u001b[39;00m)\n",
      "File \u001b[1;32m~\\anaconda3\\Lib\\site-packages\\pandas\\core\\groupby\\ops.py:885\u001b[0m, in \u001b[0;36mBaseGrouper._aggregate_series_pure_python\u001b[1;34m(self, obj, func)\u001b[0m\n\u001b[0;32m    884\u001b[0m \u001b[38;5;28;01mfor\u001b[39;00m i, group \u001b[38;5;129;01min\u001b[39;00m \u001b[38;5;28menumerate\u001b[39m(splitter):\n\u001b[1;32m--> 885\u001b[0m     res \u001b[38;5;241m=\u001b[39m func(group)\n\u001b[0;32m    886\u001b[0m     res \u001b[38;5;241m=\u001b[39m extract_result(res)\n",
      "File \u001b[1;32m~\\anaconda3\\Lib\\site-packages\\pandas\\core\\groupby\\groupby.py:2534\u001b[0m, in \u001b[0;36mGroupBy.median.<locals>.<lambda>\u001b[1;34m(x)\u001b[0m\n\u001b[0;32m   2461\u001b[0m \u001b[38;5;250m\u001b[39m\u001b[38;5;124;03m\"\"\"\u001b[39;00m\n\u001b[0;32m   2462\u001b[0m \u001b[38;5;124;03mCompute median of groups, excluding missing values.\u001b[39;00m\n\u001b[0;32m   2463\u001b[0m \n\u001b[1;32m   (...)\u001b[0m\n\u001b[0;32m   2530\u001b[0m \u001b[38;5;124;03mFreq: MS, dtype: float64\u001b[39;00m\n\u001b[0;32m   2531\u001b[0m \u001b[38;5;124;03m\"\"\"\u001b[39;00m\n\u001b[0;32m   2532\u001b[0m result \u001b[38;5;241m=\u001b[39m \u001b[38;5;28mself\u001b[39m\u001b[38;5;241m.\u001b[39m_cython_agg_general(\n\u001b[0;32m   2533\u001b[0m     \u001b[38;5;124m\"\u001b[39m\u001b[38;5;124mmedian\u001b[39m\u001b[38;5;124m\"\u001b[39m,\n\u001b[1;32m-> 2534\u001b[0m     alt\u001b[38;5;241m=\u001b[39m\u001b[38;5;28;01mlambda\u001b[39;00m x: Series(x, copy\u001b[38;5;241m=\u001b[39m\u001b[38;5;28;01mFalse\u001b[39;00m)\u001b[38;5;241m.\u001b[39mmedian(numeric_only\u001b[38;5;241m=\u001b[39mnumeric_only),\n\u001b[0;32m   2535\u001b[0m     numeric_only\u001b[38;5;241m=\u001b[39mnumeric_only,\n\u001b[0;32m   2536\u001b[0m )\n\u001b[0;32m   2537\u001b[0m \u001b[38;5;28;01mreturn\u001b[39;00m result\u001b[38;5;241m.\u001b[39m__finalize__(\u001b[38;5;28mself\u001b[39m\u001b[38;5;241m.\u001b[39mobj, method\u001b[38;5;241m=\u001b[39m\u001b[38;5;124m\"\u001b[39m\u001b[38;5;124mgroupby\u001b[39m\u001b[38;5;124m\"\u001b[39m)\n",
      "File \u001b[1;32m~\\anaconda3\\Lib\\site-packages\\pandas\\core\\series.py:6559\u001b[0m, in \u001b[0;36mSeries.median\u001b[1;34m(self, axis, skipna, numeric_only, **kwargs)\u001b[0m\n\u001b[0;32m   6551\u001b[0m \u001b[38;5;129m@doc\u001b[39m(make_doc(\u001b[38;5;124m\"\u001b[39m\u001b[38;5;124mmedian\u001b[39m\u001b[38;5;124m\"\u001b[39m, ndim\u001b[38;5;241m=\u001b[39m\u001b[38;5;241m1\u001b[39m))\n\u001b[0;32m   6552\u001b[0m \u001b[38;5;28;01mdef\u001b[39;00m \u001b[38;5;21mmedian\u001b[39m(\n\u001b[0;32m   6553\u001b[0m     \u001b[38;5;28mself\u001b[39m,\n\u001b[1;32m   (...)\u001b[0m\n\u001b[0;32m   6557\u001b[0m     \u001b[38;5;241m*\u001b[39m\u001b[38;5;241m*\u001b[39mkwargs,\n\u001b[0;32m   6558\u001b[0m ):\n\u001b[1;32m-> 6559\u001b[0m     \u001b[38;5;28;01mreturn\u001b[39;00m NDFrame\u001b[38;5;241m.\u001b[39mmedian(\u001b[38;5;28mself\u001b[39m, axis, skipna, numeric_only, \u001b[38;5;241m*\u001b[39m\u001b[38;5;241m*\u001b[39mkwargs)\n",
      "File \u001b[1;32m~\\anaconda3\\Lib\\site-packages\\pandas\\core\\generic.py:12431\u001b[0m, in \u001b[0;36mNDFrame.median\u001b[1;34m(self, axis, skipna, numeric_only, **kwargs)\u001b[0m\n\u001b[0;32m  12424\u001b[0m \u001b[38;5;28;01mdef\u001b[39;00m \u001b[38;5;21mmedian\u001b[39m(\n\u001b[0;32m  12425\u001b[0m     \u001b[38;5;28mself\u001b[39m,\n\u001b[0;32m  12426\u001b[0m     axis: Axis \u001b[38;5;241m|\u001b[39m \u001b[38;5;28;01mNone\u001b[39;00m \u001b[38;5;241m=\u001b[39m \u001b[38;5;241m0\u001b[39m,\n\u001b[1;32m   (...)\u001b[0m\n\u001b[0;32m  12429\u001b[0m     \u001b[38;5;241m*\u001b[39m\u001b[38;5;241m*\u001b[39mkwargs,\n\u001b[0;32m  12430\u001b[0m ) \u001b[38;5;241m-\u001b[39m\u001b[38;5;241m>\u001b[39m Series \u001b[38;5;241m|\u001b[39m \u001b[38;5;28mfloat\u001b[39m:\n\u001b[1;32m> 12431\u001b[0m     \u001b[38;5;28;01mreturn\u001b[39;00m \u001b[38;5;28mself\u001b[39m\u001b[38;5;241m.\u001b[39m_stat_function(\n\u001b[0;32m  12432\u001b[0m         \u001b[38;5;124m\"\u001b[39m\u001b[38;5;124mmedian\u001b[39m\u001b[38;5;124m\"\u001b[39m, nanops\u001b[38;5;241m.\u001b[39mnanmedian, axis, skipna, numeric_only, \u001b[38;5;241m*\u001b[39m\u001b[38;5;241m*\u001b[39mkwargs\n\u001b[0;32m  12433\u001b[0m     )\n",
      "File \u001b[1;32m~\\anaconda3\\Lib\\site-packages\\pandas\\core\\generic.py:12377\u001b[0m, in \u001b[0;36mNDFrame._stat_function\u001b[1;34m(self, name, func, axis, skipna, numeric_only, **kwargs)\u001b[0m\n\u001b[0;32m  12375\u001b[0m validate_bool_kwarg(skipna, \u001b[38;5;124m\"\u001b[39m\u001b[38;5;124mskipna\u001b[39m\u001b[38;5;124m\"\u001b[39m, none_allowed\u001b[38;5;241m=\u001b[39m\u001b[38;5;28;01mFalse\u001b[39;00m)\n\u001b[1;32m> 12377\u001b[0m \u001b[38;5;28;01mreturn\u001b[39;00m \u001b[38;5;28mself\u001b[39m\u001b[38;5;241m.\u001b[39m_reduce(\n\u001b[0;32m  12378\u001b[0m     func, name\u001b[38;5;241m=\u001b[39mname, axis\u001b[38;5;241m=\u001b[39maxis, skipna\u001b[38;5;241m=\u001b[39mskipna, numeric_only\u001b[38;5;241m=\u001b[39mnumeric_only\n\u001b[0;32m  12379\u001b[0m )\n",
      "File \u001b[1;32m~\\anaconda3\\Lib\\site-packages\\pandas\\core\\series.py:6457\u001b[0m, in \u001b[0;36mSeries._reduce\u001b[1;34m(self, op, name, axis, skipna, numeric_only, filter_type, **kwds)\u001b[0m\n\u001b[0;32m   6453\u001b[0m     \u001b[38;5;28;01mraise\u001b[39;00m \u001b[38;5;167;01mTypeError\u001b[39;00m(\n\u001b[0;32m   6454\u001b[0m         \u001b[38;5;124mf\u001b[39m\u001b[38;5;124m\"\u001b[39m\u001b[38;5;124mSeries.\u001b[39m\u001b[38;5;132;01m{\u001b[39;00mname\u001b[38;5;132;01m}\u001b[39;00m\u001b[38;5;124m does not allow \u001b[39m\u001b[38;5;132;01m{\u001b[39;00mkwd_name\u001b[38;5;132;01m}\u001b[39;00m\u001b[38;5;124m=\u001b[39m\u001b[38;5;132;01m{\u001b[39;00mnumeric_only\u001b[38;5;132;01m}\u001b[39;00m\u001b[38;5;124m \u001b[39m\u001b[38;5;124m\"\u001b[39m\n\u001b[0;32m   6455\u001b[0m         \u001b[38;5;124m\"\u001b[39m\u001b[38;5;124mwith non-numeric dtypes.\u001b[39m\u001b[38;5;124m\"\u001b[39m\n\u001b[0;32m   6456\u001b[0m     )\n\u001b[1;32m-> 6457\u001b[0m \u001b[38;5;28;01mreturn\u001b[39;00m op(delegate, skipna\u001b[38;5;241m=\u001b[39mskipna, \u001b[38;5;241m*\u001b[39m\u001b[38;5;241m*\u001b[39mkwds)\n",
      "File \u001b[1;32m~\\anaconda3\\Lib\\site-packages\\pandas\\core\\nanops.py:147\u001b[0m, in \u001b[0;36mbottleneck_switch.__call__.<locals>.f\u001b[1;34m(values, axis, skipna, **kwds)\u001b[0m\n\u001b[0;32m    146\u001b[0m \u001b[38;5;28;01melse\u001b[39;00m:\n\u001b[1;32m--> 147\u001b[0m     result \u001b[38;5;241m=\u001b[39m alt(values, axis\u001b[38;5;241m=\u001b[39maxis, skipna\u001b[38;5;241m=\u001b[39mskipna, \u001b[38;5;241m*\u001b[39m\u001b[38;5;241m*\u001b[39mkwds)\n\u001b[0;32m    149\u001b[0m \u001b[38;5;28;01mreturn\u001b[39;00m result\n",
      "File \u001b[1;32m~\\anaconda3\\Lib\\site-packages\\pandas\\core\\nanops.py:787\u001b[0m, in \u001b[0;36mnanmedian\u001b[1;34m(values, axis, skipna, mask)\u001b[0m\n\u001b[0;32m    786\u001b[0m     \u001b[38;5;28;01mif\u001b[39;00m inferred \u001b[38;5;129;01min\u001b[39;00m [\u001b[38;5;124m\"\u001b[39m\u001b[38;5;124mstring\u001b[39m\u001b[38;5;124m\"\u001b[39m, \u001b[38;5;124m\"\u001b[39m\u001b[38;5;124mmixed\u001b[39m\u001b[38;5;124m\"\u001b[39m]:\n\u001b[1;32m--> 787\u001b[0m         \u001b[38;5;28;01mraise\u001b[39;00m \u001b[38;5;167;01mTypeError\u001b[39;00m(\u001b[38;5;124mf\u001b[39m\u001b[38;5;124m\"\u001b[39m\u001b[38;5;124mCannot convert \u001b[39m\u001b[38;5;132;01m{\u001b[39;00mvalues\u001b[38;5;132;01m}\u001b[39;00m\u001b[38;5;124m to numeric\u001b[39m\u001b[38;5;124m\"\u001b[39m)\n\u001b[0;32m    788\u001b[0m \u001b[38;5;28;01mtry\u001b[39;00m:\n",
      "\u001b[1;31mTypeError\u001b[0m: Cannot convert ['Afghanistan' 'Africa Eastern and Southern' 'Africa Western and Central'\n 'Bangladesh' 'Benin' 'Burkina Faso' 'Burundi' \"CÃ´te d'Ivoire\"\n 'Cabo Verde' 'Cambodia' 'Cameroon' 'Central African Republic' 'Chad'\n 'Comoros' 'Congo' 'Dem. Rep. Congo' 'Djibouti' 'Ethiopia'\n 'Fragile and conflict affected situations' 'Ghana' 'Guinea'\n 'Guinea-Bissau' 'Haiti' 'Heavily indebted poor countries (HIPC)'\n 'Honduras' 'IDA blend' 'IDA only' 'IDA total' 'India' 'Kenya' 'Kiribati'\n 'Kyrgyz Republic' 'Lao PDR'\n 'Least developed countries: UN classification' 'Lesotho' 'Liberia'\n 'Low income' 'Lower middle income' 'Madagascar' 'Malawi' 'Mali'\n 'Marshall Islands' 'Mauritania' 'Micronesia' 'Mozambique' 'Myanmar'\n 'Nepal' 'Nicaragua' 'Niger' 'Nigeria' 'Pacific island small states'\n 'Pakistan' 'Papua New Guinea' 'Philippines' 'Pre-demographic dividend'\n 'Rwanda' 'SÃ£o TomÃ© and Principe' 'Samoa' 'Senegal' 'Sierra Leone'\n 'Solomon Islands' 'Somalia' 'South Asia' 'South Asia (IDA & IBRD)'\n 'Sub-Saharan Africa' 'Sub-Saharan Africa (excluding high income)'\n 'Sub-Saharan Africa (IDA & IBRD)' 'Sudan' 'Tajikistan' 'Tanzania'\n 'The Gambia' 'Timor-Leste' 'Togo' 'Tonga' 'Tuvalu' 'Uganda' 'Uzbekistan'\n 'Vanuatu' 'West Bank and Gaza' 'Zambia' 'Zimbabwe'] to numeric",
      "\nThe above exception was the direct cause of the following exception:\n",
      "\u001b[1;31mTypeError\u001b[0m                                 Traceback (most recent call last)",
      "Cell \u001b[1;32mIn[180], line 1\u001b[0m\n\u001b[1;32m----> 1\u001b[0m gdp_per_capita_2014\u001b[38;5;241m.\u001b[39mgroupby(\u001b[38;5;124m'\u001b[39m\u001b[38;5;124mGDP_group\u001b[39m\u001b[38;5;124m'\u001b[39m)\u001b[38;5;241m.\u001b[39mmedian()\n",
      "File \u001b[1;32m~\\anaconda3\\Lib\\site-packages\\pandas\\core\\groupby\\groupby.py:2532\u001b[0m, in \u001b[0;36mGroupBy.median\u001b[1;34m(self, numeric_only)\u001b[0m\n\u001b[0;32m   2459\u001b[0m \u001b[38;5;129m@final\u001b[39m\n\u001b[0;32m   2460\u001b[0m \u001b[38;5;28;01mdef\u001b[39;00m \u001b[38;5;21mmedian\u001b[39m(\u001b[38;5;28mself\u001b[39m, numeric_only: \u001b[38;5;28mbool\u001b[39m \u001b[38;5;241m=\u001b[39m \u001b[38;5;28;01mFalse\u001b[39;00m) \u001b[38;5;241m-\u001b[39m\u001b[38;5;241m>\u001b[39m NDFrameT:\n\u001b[0;32m   2461\u001b[0m \u001b[38;5;250m    \u001b[39m\u001b[38;5;124;03m\"\"\"\u001b[39;00m\n\u001b[0;32m   2462\u001b[0m \u001b[38;5;124;03m    Compute median of groups, excluding missing values.\u001b[39;00m\n\u001b[0;32m   2463\u001b[0m \n\u001b[1;32m   (...)\u001b[0m\n\u001b[0;32m   2530\u001b[0m \u001b[38;5;124;03m    Freq: MS, dtype: float64\u001b[39;00m\n\u001b[0;32m   2531\u001b[0m \u001b[38;5;124;03m    \"\"\"\u001b[39;00m\n\u001b[1;32m-> 2532\u001b[0m     result \u001b[38;5;241m=\u001b[39m \u001b[38;5;28mself\u001b[39m\u001b[38;5;241m.\u001b[39m_cython_agg_general(\n\u001b[0;32m   2533\u001b[0m         \u001b[38;5;124m\"\u001b[39m\u001b[38;5;124mmedian\u001b[39m\u001b[38;5;124m\"\u001b[39m,\n\u001b[0;32m   2534\u001b[0m         alt\u001b[38;5;241m=\u001b[39m\u001b[38;5;28;01mlambda\u001b[39;00m x: Series(x, copy\u001b[38;5;241m=\u001b[39m\u001b[38;5;28;01mFalse\u001b[39;00m)\u001b[38;5;241m.\u001b[39mmedian(numeric_only\u001b[38;5;241m=\u001b[39mnumeric_only),\n\u001b[0;32m   2535\u001b[0m         numeric_only\u001b[38;5;241m=\u001b[39mnumeric_only,\n\u001b[0;32m   2536\u001b[0m     )\n\u001b[0;32m   2537\u001b[0m     \u001b[38;5;28;01mreturn\u001b[39;00m result\u001b[38;5;241m.\u001b[39m__finalize__(\u001b[38;5;28mself\u001b[39m\u001b[38;5;241m.\u001b[39mobj, method\u001b[38;5;241m=\u001b[39m\u001b[38;5;124m\"\u001b[39m\u001b[38;5;124mgroupby\u001b[39m\u001b[38;5;124m\"\u001b[39m)\n",
      "File \u001b[1;32m~\\anaconda3\\Lib\\site-packages\\pandas\\core\\groupby\\groupby.py:1998\u001b[0m, in \u001b[0;36mGroupBy._cython_agg_general\u001b[1;34m(self, how, alt, numeric_only, min_count, **kwargs)\u001b[0m\n\u001b[0;32m   1995\u001b[0m     result \u001b[38;5;241m=\u001b[39m \u001b[38;5;28mself\u001b[39m\u001b[38;5;241m.\u001b[39m_agg_py_fallback(how, values, ndim\u001b[38;5;241m=\u001b[39mdata\u001b[38;5;241m.\u001b[39mndim, alt\u001b[38;5;241m=\u001b[39malt)\n\u001b[0;32m   1996\u001b[0m     \u001b[38;5;28;01mreturn\u001b[39;00m result\n\u001b[1;32m-> 1998\u001b[0m new_mgr \u001b[38;5;241m=\u001b[39m data\u001b[38;5;241m.\u001b[39mgrouped_reduce(array_func)\n\u001b[0;32m   1999\u001b[0m res \u001b[38;5;241m=\u001b[39m \u001b[38;5;28mself\u001b[39m\u001b[38;5;241m.\u001b[39m_wrap_agged_manager(new_mgr)\n\u001b[0;32m   2000\u001b[0m \u001b[38;5;28;01mif\u001b[39;00m how \u001b[38;5;129;01min\u001b[39;00m [\u001b[38;5;124m\"\u001b[39m\u001b[38;5;124midxmin\u001b[39m\u001b[38;5;124m\"\u001b[39m, \u001b[38;5;124m\"\u001b[39m\u001b[38;5;124midxmax\u001b[39m\u001b[38;5;124m\"\u001b[39m]:\n",
      "File \u001b[1;32m~\\anaconda3\\Lib\\site-packages\\pandas\\core\\internals\\managers.py:1469\u001b[0m, in \u001b[0;36mBlockManager.grouped_reduce\u001b[1;34m(self, func)\u001b[0m\n\u001b[0;32m   1465\u001b[0m \u001b[38;5;28;01mif\u001b[39;00m blk\u001b[38;5;241m.\u001b[39mis_object:\n\u001b[0;32m   1466\u001b[0m     \u001b[38;5;66;03m# split on object-dtype blocks bc some columns may raise\u001b[39;00m\n\u001b[0;32m   1467\u001b[0m     \u001b[38;5;66;03m#  while others do not.\u001b[39;00m\n\u001b[0;32m   1468\u001b[0m     \u001b[38;5;28;01mfor\u001b[39;00m sb \u001b[38;5;129;01min\u001b[39;00m blk\u001b[38;5;241m.\u001b[39m_split():\n\u001b[1;32m-> 1469\u001b[0m         applied \u001b[38;5;241m=\u001b[39m sb\u001b[38;5;241m.\u001b[39mapply(func)\n\u001b[0;32m   1470\u001b[0m         result_blocks \u001b[38;5;241m=\u001b[39m extend_blocks(applied, result_blocks)\n\u001b[0;32m   1471\u001b[0m \u001b[38;5;28;01melse\u001b[39;00m:\n",
      "File \u001b[1;32m~\\anaconda3\\Lib\\site-packages\\pandas\\core\\internals\\blocks.py:393\u001b[0m, in \u001b[0;36mBlock.apply\u001b[1;34m(self, func, **kwargs)\u001b[0m\n\u001b[0;32m    387\u001b[0m \u001b[38;5;129m@final\u001b[39m\n\u001b[0;32m    388\u001b[0m \u001b[38;5;28;01mdef\u001b[39;00m \u001b[38;5;21mapply\u001b[39m(\u001b[38;5;28mself\u001b[39m, func, \u001b[38;5;241m*\u001b[39m\u001b[38;5;241m*\u001b[39mkwargs) \u001b[38;5;241m-\u001b[39m\u001b[38;5;241m>\u001b[39m \u001b[38;5;28mlist\u001b[39m[Block]:\n\u001b[0;32m    389\u001b[0m \u001b[38;5;250m    \u001b[39m\u001b[38;5;124;03m\"\"\"\u001b[39;00m\n\u001b[0;32m    390\u001b[0m \u001b[38;5;124;03m    apply the function to my values; return a block if we are not\u001b[39;00m\n\u001b[0;32m    391\u001b[0m \u001b[38;5;124;03m    one\u001b[39;00m\n\u001b[0;32m    392\u001b[0m \u001b[38;5;124;03m    \"\"\"\u001b[39;00m\n\u001b[1;32m--> 393\u001b[0m     result \u001b[38;5;241m=\u001b[39m func(\u001b[38;5;28mself\u001b[39m\u001b[38;5;241m.\u001b[39mvalues, \u001b[38;5;241m*\u001b[39m\u001b[38;5;241m*\u001b[39mkwargs)\n\u001b[0;32m    395\u001b[0m     result \u001b[38;5;241m=\u001b[39m maybe_coerce_values(result)\n\u001b[0;32m    396\u001b[0m     \u001b[38;5;28;01mreturn\u001b[39;00m \u001b[38;5;28mself\u001b[39m\u001b[38;5;241m.\u001b[39m_split_op_result(result)\n",
      "File \u001b[1;32m~\\anaconda3\\Lib\\site-packages\\pandas\\core\\groupby\\groupby.py:1995\u001b[0m, in \u001b[0;36mGroupBy._cython_agg_general.<locals>.array_func\u001b[1;34m(values)\u001b[0m\n\u001b[0;32m   1992\u001b[0m     \u001b[38;5;28;01mreturn\u001b[39;00m result\n\u001b[0;32m   1994\u001b[0m \u001b[38;5;28;01massert\u001b[39;00m alt \u001b[38;5;129;01mis\u001b[39;00m \u001b[38;5;129;01mnot\u001b[39;00m \u001b[38;5;28;01mNone\u001b[39;00m\n\u001b[1;32m-> 1995\u001b[0m result \u001b[38;5;241m=\u001b[39m \u001b[38;5;28mself\u001b[39m\u001b[38;5;241m.\u001b[39m_agg_py_fallback(how, values, ndim\u001b[38;5;241m=\u001b[39mdata\u001b[38;5;241m.\u001b[39mndim, alt\u001b[38;5;241m=\u001b[39malt)\n\u001b[0;32m   1996\u001b[0m \u001b[38;5;28;01mreturn\u001b[39;00m result\n",
      "File \u001b[1;32m~\\anaconda3\\Lib\\site-packages\\pandas\\core\\groupby\\groupby.py:1946\u001b[0m, in \u001b[0;36mGroupBy._agg_py_fallback\u001b[1;34m(self, how, values, ndim, alt)\u001b[0m\n\u001b[0;32m   1944\u001b[0m     msg \u001b[38;5;241m=\u001b[39m \u001b[38;5;124mf\u001b[39m\u001b[38;5;124m\"\u001b[39m\u001b[38;5;124magg function failed [how->\u001b[39m\u001b[38;5;132;01m{\u001b[39;00mhow\u001b[38;5;132;01m}\u001b[39;00m\u001b[38;5;124m,dtype->\u001b[39m\u001b[38;5;132;01m{\u001b[39;00mser\u001b[38;5;241m.\u001b[39mdtype\u001b[38;5;132;01m}\u001b[39;00m\u001b[38;5;124m]\u001b[39m\u001b[38;5;124m\"\u001b[39m\n\u001b[0;32m   1945\u001b[0m     \u001b[38;5;66;03m# preserve the kind of exception that raised\u001b[39;00m\n\u001b[1;32m-> 1946\u001b[0m     \u001b[38;5;28;01mraise\u001b[39;00m \u001b[38;5;28mtype\u001b[39m(err)(msg) \u001b[38;5;28;01mfrom\u001b[39;00m \u001b[38;5;21;01merr\u001b[39;00m\n\u001b[0;32m   1948\u001b[0m \u001b[38;5;28;01mif\u001b[39;00m ser\u001b[38;5;241m.\u001b[39mdtype \u001b[38;5;241m==\u001b[39m \u001b[38;5;28mobject\u001b[39m:\n\u001b[0;32m   1949\u001b[0m     res_values \u001b[38;5;241m=\u001b[39m res_values\u001b[38;5;241m.\u001b[39mastype(\u001b[38;5;28mobject\u001b[39m, copy\u001b[38;5;241m=\u001b[39m\u001b[38;5;28;01mFalse\u001b[39;00m)\n",
      "\u001b[1;31mTypeError\u001b[0m: agg function failed [how->median,dtype->object]"
     ]
    }
   ],
   "source": [
    "gdp_per_capita_2014.groupby('GDP_group')['Internet_Users_Oct'].median()"
   ]
  },
  {
   "cell_type": "markdown",
   "id": "91876a75-8b7c-49d2-a437-a84b8475468a",
   "metadata": {},
   "source": [
    "### Bonus: Download another data set from the UN data (http://data.un.org/Explorer.aspx) to merge with your data and explore."
   ]
  },
  {
   "cell_type": "code",
   "execution_count": null,
   "id": "608bdabd-c0a9-48fc-b7af-9932e34b2328",
   "metadata": {},
   "outputs": [],
   "source": []
  }
 ],
 "metadata": {
  "kernelspec": {
   "display_name": "Python 3 (ipykernel)",
   "language": "python",
   "name": "python3"
  },
  "language_info": {
   "codemirror_mode": {
    "name": "ipython",
    "version": 3
   },
   "file_extension": ".py",
   "mimetype": "text/x-python",
   "name": "python",
   "nbconvert_exporter": "python",
   "pygments_lexer": "ipython3",
   "version": "3.12.7"
  }
 },
 "nbformat": 4,
 "nbformat_minor": 5
}
